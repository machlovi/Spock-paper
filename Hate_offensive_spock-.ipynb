{
 "cells": [
  {
   "cell_type": "markdown",
   "metadata": {
    "colab_type": "text",
    "id": "view-in-github"
   },
   "source": [
    "<a href=\"https://colab.research.google.com/github/machlovi/Spock-paper/blob/main/X_hate_and_offensive_data_combine.ipynb\" target=\"_parent\"><img src=\"https://colab.research.google.com/assets/colab-badge.svg\" alt=\"Open In Colab\"/></a>"
   ]
  },
  {
   "cell_type": "markdown",
   "metadata": {
    "id": "AdBpcROn7EF-"
   },
   "source": [
    "# This file uses HateXplain data\n",
    "We are initailizing 3 vector space for 3 classes in this code. Main idea is to visualize how we can separate words related to each classes in the given space"
   ]
  },
  {
   "cell_type": "code",
   "execution_count": 1,
   "metadata": {
    "colab": {
     "base_uri": "https://localhost:8080/"
    },
    "id": "4UYfxZaZz6j8",
    "outputId": "09a73fe3-70ee-4cca-c198-fafbeda639f7",
    "tags": []
   },
   "outputs": [],
   "source": [
    "# ! apt-get install git"
   ]
  },
  {
   "cell_type": "markdown",
   "metadata": {
    "id": "Lj4pk2f97ALa"
   },
   "source": [
    "# Import Libraries"
   ]
  },
  {
   "cell_type": "code",
   "execution_count": 2,
   "metadata": {},
   "outputs": [],
   "source": [
    "# !pip install transformers --quiet"
   ]
  },
  {
   "cell_type": "code",
   "execution_count": 1,
   "metadata": {
    "colab": {
     "base_uri": "https://localhost:8080/"
    },
    "id": "c7fS4-4j6y_h",
    "outputId": "6b5de3d8-1951-4e39-8a5e-2a5759d5f38d",
    "tags": []
   },
   "outputs": [
    {
     "name": "stderr",
     "output_type": "stream",
     "text": [
      "[nltk_data] Downloading package punkt to\n",
      "[nltk_data]     /home/naseem_fordham/nltk_data...\n",
      "[nltk_data]   Package punkt is already up-to-date!\n",
      "[nltk_data] Downloading package stopwords to\n",
      "[nltk_data]     /home/naseem_fordham/nltk_data...\n",
      "[nltk_data]   Package stopwords is already up-to-date!\n",
      "/home/naseem_fordham/.local/lib/python3.8/site-packages/pandas/core/computation/expressions.py:20: UserWarning: Pandas requires version '2.7.3' or newer of 'numexpr' (version '2.7.1' currently installed).\n",
      "  from pandas.core.computation.check import NUMEXPR_INSTALLED\n"
     ]
    }
   ],
   "source": [
    "import os\n",
    "import random\n",
    "import pickle\n",
    "from timeit import default_timer as timer\n",
    "from tqdm import tqdm, trange\n",
    "\n",
    "import re\n",
    "import nltk\n",
    "nltk.download(\"punkt\")\n",
    "from nltk.corpus import stopwords\n",
    "nltk.download(\"stopwords\")\n",
    "from string import punctuation\n",
    "\n",
    "import pandas as pd\n",
    "pd.set_option(\"display.max_rows\",20)\n",
    "pd.set_option(\"display.max_columns\", None)\n",
    "import numpy as np\n",
    "import matplotlib.pyplot as plt\n",
    "\n",
    "from sklearn.model_selection import train_test_split\n",
    "from sklearn.preprocessing import OneHotEncoder\n",
    "from sklearn.compose import make_column_transformer\n",
    "from sklearn.utils import class_weight\n",
    "from sklearn.manifold import TSNE\n",
    "\n",
    "\n",
    "from transformers import TFAutoModel, BertTokenizerFast, BertModel\n",
    "import tensorflow as tf\n",
    "from tensorflow.keras import layers\n",
    "from tensorflow.keras import callbacks as cb\n",
    "from tensorflow.keras.models import Model, Sequential\n",
    "\n",
    "from tensorflow.keras.constraints import MaxNorm\n",
    "import keras\n",
    "from keras.layers import Input, Concatenate, Flatten, Embedding, Dense, Dropout, LSTM\n",
    "from keras.models import Model, Sequential\n",
    "from keras.layers import Lambda\n",
    "\n",
    "from sklearn.metrics import confusion_matrix, ConfusionMatrixDisplay, classification_report\n",
    "from sklearn.metrics import confusion_matrix, ConfusionMatrixDisplay\n"
   ]
  },
  {
   "cell_type": "code",
   "execution_count": 2,
   "metadata": {
    "tags": []
   },
   "outputs": [
    {
     "name": "stdout",
     "output_type": "stream",
     "text": [
      "Default GPU Device: /device:GPU:0\n"
     ]
    }
   ],
   "source": [
    "\n",
    "\n",
    "#  Looking for GPU using by this kernel\n",
    "              \n",
    "import os\n",
    "os.environ[\"TF_CPP_MIN_LOG_LEVEL\"] = \"1\"\n",
    "os.environ[\"CUDA_DEVICE_ORDER\"] = \"PCI_BUS_ID\"\n",
    "os.environ[\"CUDA_VISIBLE_DEVICES\"] = \"1\"  # Specify the GPU you want to use\n",
    "\n",
    "# import tensorflow as tf\n",
    "\n",
    "# Check if TensorFlow is using GPU\n",
    "if tf.test.gpu_device_name():\n",
    "    print(\"Default GPU Device: {}\".format(tf.test.gpu_device_name()))\n",
    "else:\n",
    "    print(\"No GPU devices found. TensorFlow is using CPU.\")\n"
   ]
  },
  {
   "cell_type": "markdown",
   "metadata": {
    "id": "Lp7FNeAE7M-s"
   },
   "source": [
    "https://github.com/t-davidson/hate-speech-and-offensive-language/tree/master/data#Data import\n",
    "\n",
    "Data Source \"https://github.com/t-davidson/33 ##\n",
    "hate-speech-and-offensive-language/blob/master/data/readme.md\"\n",
    "'''hate_speech = number of CF users who judged the tweet to be hate speech.\n",
    "offensive_language = number of CF users who judged the tweet to be offensive.\n",
    "neither = number of CF users who judged the tweet to be neither offensive nor non-offensive.\n",
    "class = class label for majority of CF users. 0 - hate speech 1 - offensive language 2 - neither'''\n",
    "\n"
   ]
  },
  {
   "cell_type": "markdown",
   "metadata": {
    "id": "bwO1A2SdOWyR"
   },
   "source": [
    "### Hate and offesive data"
   ]
  },
  {
   "cell_type": "code",
   "execution_count": null,
   "metadata": {
    "tags": []
   },
   "outputs": [],
   "source": []
  },
  {
   "cell_type": "code",
   "execution_count": 3,
   "metadata": {
    "id": "IhbEpI5u6-jv",
    "tags": []
   },
   "outputs": [
    {
     "data": {
      "text/html": [
       "<div>\n",
       "<style scoped>\n",
       "    .dataframe tbody tr th:only-of-type {\n",
       "        vertical-align: middle;\n",
       "    }\n",
       "\n",
       "    .dataframe tbody tr th {\n",
       "        vertical-align: top;\n",
       "    }\n",
       "\n",
       "    .dataframe thead th {\n",
       "        text-align: right;\n",
       "    }\n",
       "</style>\n",
       "<table border=\"1\" class=\"dataframe\">\n",
       "  <thead>\n",
       "    <tr style=\"text-align: right;\">\n",
       "      <th></th>\n",
       "      <th>class</th>\n",
       "      <th>tweet</th>\n",
       "    </tr>\n",
       "  </thead>\n",
       "  <tbody>\n",
       "    <tr>\n",
       "      <th>0</th>\n",
       "      <td>2.0</td>\n",
       "      <td>!!! RT @mayasolovely: As a woman you shouldn't...</td>\n",
       "    </tr>\n",
       "    <tr>\n",
       "      <th>1</th>\n",
       "      <td>1.0</td>\n",
       "      <td>!!!!! RT @mleew17: boy dats cold...tyga dwn ba...</td>\n",
       "    </tr>\n",
       "    <tr>\n",
       "      <th>2</th>\n",
       "      <td>1.0</td>\n",
       "      <td>!!!!!!! RT @UrKindOfBrand Dawg!!!! RT @80sbaby...</td>\n",
       "    </tr>\n",
       "    <tr>\n",
       "      <th>3</th>\n",
       "      <td>1.0</td>\n",
       "      <td>!!!!!!!!! RT @C_G_Anderson: @viva_based she lo...</td>\n",
       "    </tr>\n",
       "    <tr>\n",
       "      <th>4</th>\n",
       "      <td>1.0</td>\n",
       "      <td>!!!!!!!!!!!!! RT @ShenikaRoberts: The shit you...</td>\n",
       "    </tr>\n",
       "    <tr>\n",
       "      <th>...</th>\n",
       "      <td>...</td>\n",
       "      <td>...</td>\n",
       "    </tr>\n",
       "    <tr>\n",
       "      <th>38890</th>\n",
       "      <td>1.0</td>\n",
       "      <td>you's a muthaf***in lie &amp;#8220;@LifeAsKing: @2...</td>\n",
       "    </tr>\n",
       "    <tr>\n",
       "      <th>38891</th>\n",
       "      <td>2.0</td>\n",
       "      <td>you've gone and broke the wrong heart baby, an...</td>\n",
       "    </tr>\n",
       "    <tr>\n",
       "      <th>38892</th>\n",
       "      <td>1.0</td>\n",
       "      <td>young buck wanna eat!!.. dat nigguh like I ain...</td>\n",
       "    </tr>\n",
       "    <tr>\n",
       "      <th>38893</th>\n",
       "      <td>1.0</td>\n",
       "      <td>youu got wild bitches tellin you lies</td>\n",
       "    </tr>\n",
       "    <tr>\n",
       "      <th>38894</th>\n",
       "      <td>2.0</td>\n",
       "      <td>~~Ruffled | Ntac Eileen Dahlia - Beautiful col...</td>\n",
       "    </tr>\n",
       "  </tbody>\n",
       "</table>\n",
       "<p>38895 rows × 2 columns</p>\n",
       "</div>"
      ],
      "text/plain": [
       "       class                                              tweet\n",
       "0        2.0  !!! RT @mayasolovely: As a woman you shouldn't...\n",
       "1        1.0  !!!!! RT @mleew17: boy dats cold...tyga dwn ba...\n",
       "2        1.0  !!!!!!! RT @UrKindOfBrand Dawg!!!! RT @80sbaby...\n",
       "3        1.0  !!!!!!!!! RT @C_G_Anderson: @viva_based she lo...\n",
       "4        1.0  !!!!!!!!!!!!! RT @ShenikaRoberts: The shit you...\n",
       "...      ...                                                ...\n",
       "38890    1.0  you's a muthaf***in lie &#8220;@LifeAsKing: @2...\n",
       "38891    2.0  you've gone and broke the wrong heart baby, an...\n",
       "38892    1.0  young buck wanna eat!!.. dat nigguh like I ain...\n",
       "38893    1.0              youu got wild bitches tellin you lies\n",
       "38894    2.0  ~~Ruffled | Ntac Eileen Dahlia - Beautiful col...\n",
       "\n",
       "[38895 rows x 2 columns]"
      ]
     },
     "execution_count": 3,
     "metadata": {},
     "output_type": "execute_result"
    }
   ],
   "source": [
    "df_data1=pd.read_csv(\"/home/naseem_fordham/Spock-paper/data/labeled_data.csv\")\n",
    "\n",
    "\n",
    "dataframe=df_data1[['class','tweet']]\n",
    "dataframe=dataframe.dropna()\n",
    "dataframe.reset_index(drop=True)\n",
    "\n",
    "\n",
    "\n"
   ]
  },
  {
   "cell_type": "markdown",
   "metadata": {
    "id": "xgqQcCnzJ9_i",
    "tags": []
   },
   "source": [
    "### Xhate-999 data set\n",
    "Class 1 hate, Class 0 non-hate speech"
   ]
  },
  {
   "cell_type": "code",
   "execution_count": 6,
   "metadata": {
    "cellView": "form",
    "id": "AgABCT3f-VSJ",
    "jupyter": {
     "source_hidden": true
    },
    "tags": []
   },
   "outputs": [],
   "source": [
    "# @title\n",
    "# # Use this part for single file\n",
    "# # Define the path to your text file\n",
    "# file_path = \"/gdrive/MyDrive/SPOCK/Dataset/xhate-main/train/XHate999-EN-Gao-train.txt\"\n",
    "\n",
    "# # Initialize empty lists to store data\n",
    "# tweets = []\n",
    "# labels = []\n",
    "\n",
    "# # Read the file line by line\n",
    "# with open(file_path, 'r') as file:\n",
    "#     for line in file:\n",
    "#         # Split the line into text and label using the last character\n",
    "#         line = line.strip()  # Remove leading/trailing whitespace\n",
    "#         text = line[:-2].strip()  # Extract text (excluding the last character)\n",
    "#         label = line[-1]  # Extract the label (as an integer)\n",
    "\n",
    "#         # Append data to lists\n",
    "#         tweets.append(text)\n",
    "#         labels.append(label)\n",
    "\n",
    "# # Create a DataFrame from the lists\n",
    "# df = pd.DataFrame({'Text': tweets, 'Label': labels})\n",
    "# df.drop(0,inplace=True)\n",
    "\n",
    "# # Display the DataFrame\n",
    "# print(df)\n"
   ]
  },
  {
   "cell_type": "code",
   "execution_count": 7,
   "metadata": {
    "id": "Sp_S78bwGI6h",
    "jupyter": {
     "source_hidden": true
    },
    "tags": []
   },
   "outputs": [],
   "source": [
    "# import os\n",
    "# import glob\n",
    "\n",
    "# # Define the directory path where your text files are located\n",
    "# directory_path = \"/gdrive/MyDrive/SPOCK/Dataset/xhate-main/train\"\n",
    "\n",
    "# # Initialize empty lists to store data\n",
    "# tweets = []\n",
    "# labels = []\n",
    "\n",
    "# # Loop through all text files in the specified directory\n",
    "# for filename in glob.glob(os.path.join(directory_path, '*.txt')):\n",
    "#     with open(filename, 'r') as file:\n",
    "\n",
    "#       for line in file:\n",
    "#           # Split the line into text and label using the last character\n",
    "#           line = line.strip()  # Remove leading/trailing whitespace\n",
    "#           text = line[:-2].strip()  # Extract text (excluding the last character)\n",
    "#           label = line[-1]  # Extract the label (as an integer)\n",
    "\n",
    "#           # Append data to lists\n",
    "#           tweets.append(text)\n",
    "#           labels.append(label)\n",
    "\n",
    "# # Create a DataFrame from the lists\n",
    "# df = pd.DataFrame({'tweet': tweets, 'class': labels})\n",
    "# df.drop(0,inplace=True)\n",
    "\n",
    "\n",
    "# df['class']=pd.to_numeric(df['class'], errors='coerce')\n",
    "# df['class'].fillna(0, inplace=True)\n",
    "# df['class']=df['class'].astype(int)\n",
    "# df_hate2=df[df['class']==1]\n",
    "# df_nonhate2=df[df['class']==0]"
   ]
  },
  {
   "cell_type": "markdown",
   "metadata": {
    "id": "UKc-jTjJSzoM"
   },
   "source": [
    "##Combing hatespeech and xhate data for hate/offensive class"
   ]
  },
  {
   "cell_type": "code",
   "execution_count": 4,
   "metadata": {
    "id": "vkjUmWVzTNN_",
    "tags": []
   },
   "outputs": [],
   "source": [
    "def text_preprocessing(text,                                                               # text is a word string ex. 'rahul in ny'\n",
    "                      punctuations = r'''!()-[]{};:'\"\\,<>./?@#$%^&*_“~='ã¶``''',\n",
    "                      stop_words = set(stopwords.words(\"english\"))) -> list:\n",
    "\n",
    "        '''\n",
    "        A method to preprocess text\n",
    "\n",
    "        '''\n",
    "\n",
    "        for x in text.lower():\n",
    "            if x in punctuations:\n",
    "                text = text.replace(x,\"\")\n",
    "\n",
    "        # removing words that have numbers in them\n",
    "        text = re.sub(r'\\w*\\d\\w*', '', text)\n",
    "        # remove digits\n",
    "        text = re.sub(r'[0-9]+', ' ', text)\n",
    "\n",
    "        # clean the whitespaces\n",
    "\n",
    "        text = re.sub(r'\\s+', ' ', text).strip()\n",
    "\n",
    "\n",
    "\n",
    "        # convert all text to a list\n",
    "\n",
    "        # text = text.split(' ').  # uncomment if list required\n",
    "        emoji_pattern = re.compile(\"[\"\n",
    "                u\"\\U0001F600-\\U0001F64F\"  # emoticons\n",
    "                u\"\\U0001F300-\\U0001F5FF\"  # symbols & pictographs\n",
    "                u\"\\U0001F680-\\U0001F6FF\"  # transport & map symbols\n",
    "                u\"\\U0001F1E0-\\U0001F1FF\"  # flags (iOS)\n",
    "                                  \"]+\", flags=re.UNICODE)\n",
    "        text = emoji_pattern.sub(r'', text) # no emoji\n",
    "\n",
    "        # lowercase eth\n",
    "\n",
    "        text = text.lower()\n",
    "\n",
    "\n",
    "        # drop the stop words\n",
    "\n",
    "\n",
    "\n",
    "        # add the tags\n",
    "\n",
    "        return text"
   ]
  },
  {
   "cell_type": "code",
   "execution_count": 5,
   "metadata": {
    "scrolled": true,
    "tags": []
   },
   "outputs": [],
   "source": [
    "dataframe[\"tweet\"] = dataframe[\"tweet\"].apply(lambda x : text_preprocessing(x))\n",
    "dataframe = dataframe.sample(frac = 1).reset_index(drop = True)"
   ]
  },
  {
   "cell_type": "code",
   "execution_count": 6,
   "metadata": {
    "tags": []
   },
   "outputs": [
    {
     "data": {
      "text/plain": [
       "1.0    30333\n",
       "2.0     6512\n",
       "0.0     2050\n",
       "Name: class, dtype: int64"
      ]
     },
     "execution_count": 6,
     "metadata": {},
     "output_type": "execute_result"
    }
   ],
   "source": [
    "dataframe['class'].value_counts()"
   ]
  },
  {
   "cell_type": "code",
   "execution_count": 7,
   "metadata": {
    "colab": {
     "base_uri": "https://localhost:8080/",
     "height": 448
    },
    "id": "-Y5XnqHVWi9T",
    "outputId": "868f2ad5-0f5c-41c8-b705-f1b3ad8f012f",
    "tags": []
   },
   "outputs": [
    {
     "data": {
      "image/png": "[encoded data removed]",
      "text/plain": [
       "<Figure size 1152x576 with 1 Axes>"
      ]
     },
     "metadata": {
      "needs_background": "light"
     },
     "output_type": "display_data"
    }
   ],
   "source": [
    "# token lengths distribution in the dataset\n",
    "token_lengths = [len(i.split()) for i in dataframe[\"tweet\"]]\n",
    "plt.figure(figsize=(16,8))\n",
    "plt.hist(token_lengths,bins = 110,edgecolor=\"black\")\n",
    "plt.xticks(ticks = np.linspace(10,100,11))\n",
    "plt.show()\n"
   ]
  },
  {
   "cell_type": "code",
   "execution_count": 8,
   "metadata": {
    "id": "0AxSspAzSE6A",
    "tags": []
   },
   "outputs": [],
   "source": [
    "# dataframe[dataframe['class']==1].shape,dataframe[dataframe['class']==0].shape,dataframe[dataframe['class']==2].shape"
   ]
  },
  {
   "cell_type": "markdown",
   "metadata": {
    "id": "yQEmSl2aS7_T"
   },
   "source": [
    "# Training and validation set\n",
    "We can also consider token length"
   ]
  },
  {
   "cell_type": "code",
   "execution_count": 9,
   "metadata": {
    "id": "xA2mJ75ARWBv",
    "tags": []
   },
   "outputs": [],
   "source": [
    "dataframe[\"token_length\"] = token_lengths\n",
    "# dataframe = dataframe.loc[dataframe[\"token_length\"] <= 25, :].reset_index(drop=True)\n",
    "\n"
   ]
  },
  {
   "cell_type": "code",
   "execution_count": 10,
   "metadata": {
    "tags": []
   },
   "outputs": [
    {
     "data": {
      "text/plain": [
       "class           6512\n",
       "tweet           6512\n",
       "token_length    6512\n",
       "dtype: int64"
      ]
     },
     "execution_count": 10,
     "metadata": {},
     "output_type": "execute_result"
    }
   ],
   "source": [
    "dataframe[dataframe['class']==2].count()"
   ]
  },
  {
   "cell_type": "code",
   "execution_count": 11,
   "metadata": {
    "tags": []
   },
   "outputs": [],
   "source": [
    "# from sklearn.preprocessing import LabelEncoder\n",
    "# from keras.utils import np_utils\n",
    "\n",
    "# encoder = LabelEncoder()\n",
    "# encoder.fit(dataframe['class'])\n",
    "# encoded_Y = encoder.transform(dataframe['class'])\n",
    "# # convert integers to dummy variables (i.e. one hot encoded)\n",
    "# dummy_y = np_utils.to_categorical(encoded_Y)\n",
    "# dummy_y\n"
   ]
  },
  {
   "cell_type": "code",
   "execution_count": 12,
   "metadata": {
    "id": "6M-IQ2ZyYVwb",
    "tags": []
   },
   "outputs": [],
   "source": [
    "# token_length 128, seems a good fit for data\n",
    "\n",
    "# split training and validation data\n",
    "train_df, val_df = train_test_split(dataframe, test_size= 0.10, stratify= dataframe[\"class\"], random_state = 40)\n",
    "\n",
    "# val_df,   test_df   = train_test_split(temp_df, test_size= 0.80, stratify= temp_df[\"class\"],random_state = 47)\n",
    "\n",
    "train_df = train_df.reset_index(drop=True)\n",
    "val_df   = val_df.reset_index(drop  = True)\n",
    "# test_df  = test_df.reset_index(drop = True)"
   ]
  },
  {
   "cell_type": "code",
   "execution_count": 13,
   "metadata": {
    "tags": []
   },
   "outputs": [
    {
     "data": {
      "text/plain": [
       "(1.0    3034\n",
       " 2.0     651\n",
       " 0.0     205\n",
       " Name: class, dtype: int64,\n",
       " 1.0    27299\n",
       " 2.0     5861\n",
       " 0.0     1845\n",
       " Name: class, dtype: int64)"
      ]
     },
     "execution_count": 13,
     "metadata": {},
     "output_type": "execute_result"
    }
   ],
   "source": [
    "val_df['class'].value_counts(),train_df['class'].value_counts()"
   ]
  },
  {
   "cell_type": "markdown",
   "metadata": {
    "id": "l9qCr_5aTbOn"
   },
   "source": [
    "#Bert Model"
   ]
  },
  {
   "cell_type": "code",
   "execution_count": 14,
   "metadata": {
    "colab": {
     "base_uri": "https://localhost:8080/",
     "height": 286,
     "referenced_widgets": [
      "570b9a872e614e0eab6618f306be7306",
      "34e574772e8b4f81bc7e02e8ebaeb258",
      "1cf66f2a8c5f49ce98d59dae5186298d",
      "71f100b04c964a1bbde06c537f483ed7",
      "9e1caf8b23fb4eb1976f808269d1dd3e",
      "3258d106659040dfb7ffea47c017ed38",
      "f9a2caba063b4a4f98ad258044d012fb",
      "dfd44792f624499b87bd768836016e88",
      "ae841edad05b4ef9b4308308d6683fa3",
      "34bbd1edf06c4a9194bd27eaeeee32b2",
      "ea850e74cb6a4121a456578b29ce7955",
      "d69dfd21bce04204b3220b71b4d4a968",
      "4914d10c0f354e178de66dc11449e26a",
      "f554ec9fe80a408680aa7b0a1c6837ac",
      "f4ec333b7c654876a6caad010e88c203",
      "cfe933364a3147368660f5463f1e5a29",
      "f7998e50af804d66b6af0f26b5588255",
      "4fa52eecbe8a4ba38ef969fd1cf48cfd",
      "3c294ab0d9a648f39ea3f3fb7dd08c3c",
      "31914a14cfa243388f43a02da4db24b6",
      "69d90bdca5174dfb91f5cf124884095e",
      "123641d1426541fba838576dff7f6082",
      "71d0c2b02f0c4a609477bc31aa880938",
      "c12c857f159443f1b2a661fcd7afa002",
      "989933f9c84a47d4b64d5b5441a1f492",
      "2024092105904b418c984aae9f4118bf",
      "4cc5655f9bdb42bca5d80e2849e8cd2b",
      "fd56d3ae17774e5496a7fdcbcb57b874",
      "b5516712d5304670a05ec871eb5896a4",
      "9910be9c8b7b4188936721e958ca15c5",
      "50859aa086814457bcab249b35d486a8",
      "4f0a4e1b4929448a8b0a25b202271a40",
      "ac93c61a19c0474994803853194d2aa8",
      "ee12049f5a9c4505b9769a4ff9c36477",
      "18e134c7af5d45baa952ccf06f96f3d8",
      "21bf2e03eac8419fa693628ab2cef02d",
      "0f14c359d92748268810099e6cdd1fc3",
      "e99b3d05437f4cdf9e1700e3cf466b34",
      "4f1d5a79d7ec4e42add7775fa925b187",
      "e89d668a4fb541ec8d75d171bf899869",
      "430a9d1768614e0596960d2a3d15d69e",
      "909ae03e117345f7a4b53f3045e090b7",
      "06285d669e92494192637cb3ee5a40f4",
      "209ee3e0949b446b8c58c57989065c5a",
      "672e978f9b524c5784553abd8cc91507",
      "17ae300ebf634778862bc211cb432eef",
      "5a072e1f73624ea5aa35e7e18af17f50",
      "1ec35f8bfadb40968f777ab7bbb55184",
      "274875a4aa6047c9903ae3065a5d85c2",
      "a51f1ae4e3bd4563be3eb7c04dec7a60",
      "c7586ac9b41c4e75b02a6c076a458686",
      "8a0c04349bae44f4a7130463ded826d1",
      "9f11959bab964aad822250b6e6853cb8",
      "9b0c918326174bc4b80585a52ac33e32",
      "e38ea829111b4065bad8ad4a4927bc39"
     ]
    },
    "id": "qe9vOPP6TD5-",
    "outputId": "d30dde8d-148a-4d7c-d57d-05ebeb164a73",
    "tags": []
   },
   "outputs": [
    {
     "name": "stderr",
     "output_type": "stream",
     "text": [
      "Some weights of the PyTorch model were not used when initializing the TF 2.0 model TFBertModel: ['cls.predictions.transform.dense.bias', 'cls.predictions.transform.LayerNorm.bias', 'cls.seq_relationship.weight', 'cls.seq_relationship.bias', 'cls.predictions.bias', 'cls.predictions.transform.LayerNorm.weight', 'cls.predictions.transform.dense.weight']\n",
      "- This IS expected if you are initializing TFBertModel from a PyTorch model trained on another task or with another architecture (e.g. initializing a TFBertForSequenceClassification model from a BertForPreTraining model).\n",
      "- This IS NOT expected if you are initializing TFBertModel from a PyTorch model that you expect to be exactly identical (e.g. initializing a TFBertForSequenceClassification model from a BertForSequenceClassification model).\n",
      "All the weights of TFBertModel were initialized from the PyTorch model.\n",
      "If your task is similar to the task the model of the checkpoint was trained on, you can already use TFBertModel for predictions without further training.\n"
     ]
    }
   ],
   "source": [
    "# load bertModel, bertTokenizer and freeze all layers\n",
    "bertModel = TFAutoModel.from_pretrained(\"bert-base-uncased\")\n",
    "tokenizer = BertTokenizerFast.from_pretrained(\"bert-base-uncased\")\n",
    "bertModel.trainable = False"
   ]
  },
  {
   "cell_type": "code",
   "execution_count": 15,
   "metadata": {
    "id": "oBwXHsyyTMLh",
    "tags": []
   },
   "outputs": [],
   "source": [
    "# dataset generator (for input to tf.data.Dataset.from_generator())\n",
    "\n",
    "class dataset:\n",
    "\n",
    "  def __init__(self,text,labels,max_length, tokenizer,projection_dim, val = False):\n",
    "\n",
    "    self.text =   text\n",
    "    self.labels = labels\n",
    "    self.max_length = max_length\n",
    "    self.tokenizer = tokenizer\n",
    "    self.flag = val\n",
    "    self.projection_dim = projection_dim\n",
    "\n",
    "  def __len__(self):\n",
    "\n",
    "    return  self.text.shape[0]\n",
    "\n",
    "  def __getitem__(self,index):\n",
    "\n",
    "    sentence = self.text[index]\n",
    "    category = self.labels[index]\n",
    "\n",
    "    return sentence, category\n",
    "\n",
    "\n",
    "  # shuffle the dataset after each epoch\n",
    "  def on_epoch_end(self):\n",
    "\n",
    "    random_idx = random.sample(list(range(self.__len__())), k = self.__len__())\n",
    "    self.text   = self.text[random_idx]\n",
    "    self.labels = self.labels[random_idx]\n",
    "\n",
    "  def __call__(self):\n",
    "\n",
    "    for i in range(self.__len__()):\n",
    "      sentence, label = self.__getitem__(i)\n",
    "      encodings = self.tokenizer(sentence,\n",
    "                                 max_length = self.max_length,\n",
    "                                 padding = \"max_length\",\n",
    "                                 truncation = True)\n",
    "\n",
    "      input_ids  = np.array(encodings[\"input_ids\"])\n",
    "      masks      = np.array(encodings[\"attention_mask\"])\n",
    "      ttids      = np.array(encodings[\"token_type_ids\"])\n",
    "\n",
    "      embedding_index = np.array([i for i in range(self.projection_dim)])\n",
    "      embedding_index = np.ravel(embedding_index)\n",
    "\n",
    "      embedding_index = np.tile(embedding_index, (input_ids[0:1].shape[0],))\n",
    "\n",
    "      yield {\"input_ids\": input_ids, \"attention_masks\": masks,\"space\": embedding_index}, label\n",
    "\n",
    "      # randomize the dataset on epoch end, only in case of training dataset\n",
    "      if i == self.__len__() -1 and self.flag is False:\n",
    "        self.on_epoch_end()"
   ]
  },
  {
   "cell_type": "code",
   "execution_count": 16,
   "metadata": {
    "id": "6tcApeRMTioD",
    "tags": []
   },
   "outputs": [],
   "source": [
    "# dataframe[dataframe['class']==1].count(),dataframe[dataframe['class']==0].count()]\n",
    "\n"
   ]
  },
  {
   "cell_type": "markdown",
   "metadata": {
    "id": "TGGXmXltToJP"
   },
   "source": [
    "# Paramters"
   ]
  },
  {
   "cell_type": "code",
   "execution_count": 17,
   "metadata": {
    "id": "-72lfw43TyD2",
    "tags": []
   },
   "outputs": [],
   "source": [
    "# create tensorflow dataloaders from generators\n",
    "\n",
    "# create generators for train and validation\n",
    "\n",
    "def dataprep(PROJECTION_DIM):\n",
    "    train_gen = dataset(train_df[\"tweet\"].values,train_df[\"class\"].values,max_length = MAX_LENGTH, tokenizer = tokenizer,projection_dim=PROJECTION_DIM)\n",
    "    val_gen   = dataset(val_df[\"tweet\"].values,val_df[\"class\"].values,max_length = MAX_LENGTH, tokenizer = tokenizer, projection_dim=PROJECTION_DIM, val = True)\n",
    "\n",
    "    train_ds = tf.data.Dataset.from_generator(train_gen,\n",
    "                                                output_signature =\n",
    "                                               ( {\"input_ids\" : tf.TensorSpec(shape = (MAX_LENGTH,), dtype = tf.int32 ),\"attention_masks\":tf.TensorSpec(shape = (MAX_LENGTH,), dtype = tf.int32),\"space\":tf.TensorSpec(shape = (PROJECTION_DIM,), dtype = tf.int32)},\n",
    "                                                tf.TensorSpec(shape = (), dtype = (tf.float32)))).repeat().batch(batch_size = BATCH_SIZE) # shuffling is already implemented in dataset class\n",
    "\n",
    "    val_ds = tf.data.Dataset.from_generator(val_gen,\n",
    "                                                output_signature =\n",
    "                                               ( {\"input_ids\" : tf.TensorSpec(shape = (MAX_LENGTH,), dtype = tf.int32 ),\"attention_masks\":tf.TensorSpec(shape = (MAX_LENGTH,), dtype = tf.int32),\"space\":tf.TensorSpec(shape = (PROJECTION_DIM,), dtype = tf.int32)},\n",
    "                                                tf.TensorSpec(shape = (), dtype = (tf.float32)))).batch(BATCH_SIZE)\n",
    "\n",
    "    return train_ds,val_ds"
   ]
  },
  {
   "cell_type": "markdown",
   "metadata": {
    "id": "fYDLSDuGT9Kl"
   },
   "source": []
  },
  {
   "cell_type": "code",
   "execution_count": 18,
   "metadata": {
    "id": "gTFK9EDvT6mW",
    "tags": []
   },
   "outputs": [],
   "source": [
    "## AUXILLIARY FUNCTIONS"
   ]
  },
  {
   "cell_type": "code",
   "execution_count": 19,
   "metadata": {
    "id": "crv2VhKhUBiQ",
    "tags": []
   },
   "outputs": [],
   "source": [
    "# NA\n",
    "def return_embedding_index(x_train,count):\n",
    "\n",
    "    embedding_index=np.array([i for i in range(count)])\n",
    "\n",
    "    embeding_index=np.ravel(embedding_index) # flattens the array\n",
    "\n",
    "    rank = len(x_train.shape)\n",
    "    if rank < 3:\n",
    "        embedding_index = np.tile(embedding_index,(x_train[0:1].shape[0],1,))\n",
    "    else:\n",
    "        embedding_index = np.tile(embedding_index,(x_train.shape[0],1,))\n",
    "\n",
    "    return embedding_index\n",
    "\n",
    "\n",
    "# cosine similarity b/w two vectors\n",
    "def cosine_similarity_projected(vects):\n",
    "\n",
    "    x,w=vects\n",
    "\n",
    "    dp = tf.matmul(x, w)\n",
    "\n",
    "\n",
    "    x_mag = tf.norm(x, axis=2, keepdims = True)\n",
    "\n",
    "    w_mag = tf.norm(w,axis = 1, keepdims = True)\n",
    "\n",
    "    denominator = dp / x_mag\n",
    "    cosine = denominator / w_mag\n",
    "\n",
    "    return cosine\n",
    "\n",
    "# NA\n",
    "def compare_cosine(vector):\n",
    "\n",
    "    hate,offensive,niether=vector\n",
    "\n",
    "    hate=tf.math.reduce_mean(hate, axis=1)\n",
    "    offensive=tf.math.reduce_mean(offensive, axis=1)\n",
    "    niether=tf.math.reduce_mean(niether, axis=1)\n",
    "    out=tf.concat([hate,offensive,niether],axis=-1)\n",
    "    print(\"COMPARE-COSINE\")\n",
    "    print('out.shape')\n",
    "    print(out.shape)\n",
    "\n",
    "\n",
    "    return out\n",
    "\n",
    "# NA\n",
    "# takes mean embeddings\n",
    "class remove_pads(tf.keras.layers.Layer):\n",
    "\n",
    "    def __init__(self,**kwargs):\n",
    "\n",
    "        super(remove_pads,self).__init__(**kwargs)\n",
    "        self.mask_generator = layers.Embedding(input_dim = 35000,output_dim = 32, mask_zero=True)\n",
    "\n",
    "\n",
    "\n",
    "    def call(self,listInputs):\n",
    "\n",
    "        inputs = listInputs[0]\n",
    "        input_ids = listInputs[1]\n",
    "        masks = self.mask_generator.compute_mask(input_ids)\n",
    "        masks = tf.cast(masks,tf.float32)\n",
    "        masks = tf.expand_dims(masks,axis=-1)\n",
    "        temp = tf.unstack(masks,axis=1)\n",
    "        del temp[0]\n",
    "        temp.insert(0,tf.zeros_like(temp[0]))\n",
    "        masks = tf.stack(temp,axis=1)\n",
    "        length = tf.math.reduce_sum(masks,axis = 1, keepdims=True)     # (None,1,1)\n",
    "        # mask the embeddings corresponding to zero input id ==0\n",
    "        masked_embeddings = inputs * masks    # (None,64,300) * (None,64,1) = (None,64,300)\n",
    "        # take SUM, (not mean)\n",
    "        masked_embeddings = tf.math.reduce_sum(masked_embeddings, axis = 1, keepdims=True)\n",
    "        # now just divide each by the length to get mean of non zero embeddings\n",
    "        masked_embeddings = masked_embeddings / length\n",
    "\n",
    "        return masked_embeddings\n",
    "\n",
    "\n",
    "\n",
    "class remove_padsV2(tf.keras.layers.Layer):\n",
    "\n",
    "    def __init__(self,**kwargs):\n",
    "\n",
    "        super(remove_padsV2,self).__init__(**kwargs)\n",
    "        self.mask_generator = layers.Embedding(input_dim = 35000,output_dim = 32, mask_zero=True)  # bert has vocabulary of 30522 words\n",
    "\n",
    "\n",
    "\n",
    "    def call(self,listInputs):\n",
    "\n",
    "        inputs = listInputs[0]                   # (None,MAX_LENGTH,PROJECTION_DIM)\n",
    "        input_ids = listInputs[1]                # (None,MAX_LENGTH)\n",
    "\n",
    "        # convert token ids 101 and 102 to 0\n",
    "        filteredInputIds = tf.where(tf.equal(input_ids,101) | tf.equal(input_ids,102),0,input_ids)\n",
    "        # get masks for input ids\n",
    "        masks = self.mask_generator.compute_mask(filteredInputIds)\n",
    "        masks = tf.cast(masks,tf.float32)\n",
    "        masks = tf.expand_dims(masks,axis=-1)    # (None,MAX_LENGTH,1)\n",
    "\n",
    "        masked_embeddings = inputs * masks\n",
    "\n",
    "        return masked_embeddings\n",
    "\n",
    "\n",
    "\n",
    "# mean embeddings\n",
    "def merge_function(vects):\n",
    "\n",
    "    hate,offensive,niether = vects[0], vects[1] ,vects[2]    # (None,MAX_LENGTH,PROJECTION_DIM)\n",
    "\n",
    "\n",
    "    # of these 128 vectors, those corresponding to tokens [cls, pad, sep] are 0\n",
    "    # we sum them up and then divide with number of non-zeros to get average cosine similarities\n",
    "    hateLength = tf.math.count_nonzero(tf.math.reduce_sum(hate, axis=2,keepdims=True), axis=1, keepdims=True,dtype = tf.float32)   # (None,1,1)\n",
    "    offensiveLength = tf.math.count_nonzero(tf.math.reduce_sum(offensive, axis=2,keepdims=True), axis=1, keepdims=True,dtype = tf.float32)\n",
    "    nietherLength = tf.math.count_nonzero(tf.math.reduce_sum(niether, axis=2,keepdims=True), axis=1, keepdims=True,dtype = tf.float32)\n",
    "\n",
    "\n",
    "    # now obtain average of cosine similarities\n",
    "    hate = tf.math.reduce_sum(hate,axis=1, keepdims=True)    # (None,1,PROJECTION_DIM)\n",
    "    hateAverage = tf.divide(hate, hateLength)\n",
    "\n",
    "    offensive = tf.math.reduce_sum(offensive,axis=1, keepdims=True)    # (None,1,PROJECTION_DIM)\n",
    "    offensiveAverage = tf.divide(offensive, offensiveLength)\n",
    "\n",
    "    niether = tf.math.reduce_sum(niether,axis=1, keepdims=True)    # (None,1,PROJECTION_DIM)\n",
    "    nietherAverage = tf.divide(niether, nietherLength)\n",
    "\n",
    "\n",
    "\n",
    "    # input_shape = (None,1,Projection_DIM)\n",
    "    res = tf.concat([hateAverage,hateAverage,nietherAverage], axis = -1)    # (None,1,PROJECTION_DIM)\n",
    "\n",
    "    return res\n",
    "\n",
    "\n",
    "# max embeddings\n",
    "def merge_functionV2(vects):\n",
    "\n",
    "    hate,offensive,niether = vects[0], vects[1], vects[2]\n",
    "    # of these 128 vectors, those corresponding to tokens [cls, pad, sep] are 0\n",
    "\n",
    "\n",
    "    # TAKE MAXIMUM COSINE SIMILARITY OF ALL THE TOKENS OF A SENTENCE WRT EACH PROJECTION DIM\n",
    "    hateMax = tf.reduce_max(hate, axis=1, keepdims=True)     # (None, 1, PROJECTION_DIM)\n",
    "    offensiveMax = tf.reduce_max(offensive, axis=1, keepdims=True)\n",
    "    nietherMax = tf.reduce_max(niether, axis=1, keepdims=True)\n",
    "\n",
    "\n",
    "    res = tf.concat([hateMax,offensiveMax,nietherMax], axis = -1)            # (None,1,  2 * PROJECTION_DIM)\n",
    "\n",
    "    return res"
   ]
  },
  {
   "cell_type": "markdown",
   "metadata": {
    "id": "7xVIgFoIztcq"
   },
   "source": [
    "Loading Weights"
   ]
  },
  {
   "cell_type": "markdown",
   "metadata": {},
   "source": [
    "# Model Architecture"
   ]
  },
  {
   "cell_type": "code",
   "execution_count": 27,
   "metadata": {
    "id": "emoMqT3RUGKH",
    "tags": []
   },
   "outputs": [],
   "source": [
    "# Model Debugging - Rahul        return stdDevLoss\n",
    "\n",
    "# class spock():\n",
    "def spock_model(MAX_LENGTH,PROJECTION_DIM):\n",
    "    # MAX_LENGTH = 30\n",
    "\n",
    "    DEBUG = \"DEBUG\"\n",
    "    VECTOR_DIM=768\n",
    "    # PROJECTION_DIM=10\n",
    "    # for input we have\n",
    "    # 1. input ids\n",
    "    # 2. attention_masks\n",
    "    # 3. embedding_index (PROJECTION_DIM)\n",
    "    # 4. label\n",
    "\n",
    "    # first two will go to bert as input\n",
    "    ids = layers.Input(shape = (MAX_LENGTH,), dtype = tf.int32, name = \"input_ids\")\n",
    "    mks = layers.Input(shape = (MAX_LENGTH,), dtype = tf.int32, name = \"attention_masks\")\n",
    "    projection_space = layers.Input(name = \"space\", shape = (PROJECTION_DIM,))\n",
    "\n",
    "\n",
    "    input_sentence = bertModel(ids, attention_mask = mks)[0]                        # layers freezed, last_hidden_state_output\n",
    "\n",
    "\n",
    "    hate_embedding_layer =  layers.Embedding(name = \"hate_embedding\",\n",
    "                                       input_dim = PROJECTION_DIM,\n",
    "                                       output_dim=VECTOR_DIM,\n",
    "                                       embeddings_initializer=tf.random_uniform_initializer(minval=-1., maxval=1.),\n",
    "                                       input_length = PROJECTION_DIM ,\n",
    "                                       # weights=hate_weights,\n",
    "                                       trainable=True,\n",
    "                                       mask_zero=True)\n",
    "\n",
    "\n",
    "    offensive_embedding_layer =  layers.Embedding(name = \"offensive_embedding\",\n",
    "                                       input_dim=PROJECTION_DIM,\n",
    "                                       output_dim=VECTOR_DIM,\n",
    "                                       embeddings_initializer=tf.random_uniform_initializer(minval=-1., maxval=1.),\n",
    "                                       input_length = PROJECTION_DIM ,\n",
    "                                       # weights=hate_weights,\n",
    "                                       trainable=True,\n",
    "                                       mask_zero=True)\n",
    "\n",
    "\n",
    "    normal_embedding_layer =  layers.Embedding(name = \"normal_embedding\",\n",
    "                                       input_dim=PROJECTION_DIM,\n",
    "                                       output_dim=VECTOR_DIM,\n",
    "                                       embeddings_initializer=tf.random_uniform_initializer(minval=-1., maxval=1.),\n",
    "                                       input_length = PROJECTION_DIM ,\n",
    "                                       # weights=hate_weights,\n",
    "                                       trainable=True,\n",
    "                                       mask_zero=True)\n",
    "\n",
    "\n",
    "    # embeddings for projection space\n",
    "    hate_embedding_np = hate_embedding_layer(projection_space)              # (None,PROJECTION_DIM,VECTOR_DIM)\n",
    "    offensive_embedding_np = offensive_embedding_layer(projection_space)     # (None,PROJECTION_DIM,VECTOR_DIM)\n",
    "    normal_embedding_np = normal_embedding_layer(projection_space)     # (None,PROJECTION_DIM,VECTOR_DIM)\n",
    "\n",
    "    #Permute\n",
    "    hate_embedding= layers.Permute((2, 1), input_shape=(PROJECTION_DIM, VECTOR_DIM))(hate_embedding_np)\n",
    "    offensive_embedding= layers.Permute((2, 1), input_shape=(PROJECTION_DIM, VECTOR_DIM))(offensive_embedding_np)\n",
    "    normal_embedding= layers.Permute((2, 1), input_shape=(PROJECTION_DIM, VECTOR_DIM))(normal_embedding_np)\n",
    "\n",
    "\n",
    "    # pos_projection_space\n",
    "    hate_cosine = layers.Lambda(function=cosine_similarity_projected,\n",
    "                          name='cosine_hate')([input_sentence, hate_embedding])              # (None,MAX_LENGTH,PROJECTION_DIM)\n",
    "\n",
    "\n",
    "    # neg_projection_space\n",
    "    offensive_cosine = layers.Lambda(function=cosine_similarity_projected,\n",
    "                             name='cosine_offensive')([input_sentence, offensive_embedding])\n",
    "\n",
    "    # normal_projection_space\n",
    "    normal_cosine = layers.Lambda(function=cosine_similarity_projected,\n",
    "                             name='cosine_normal')([input_sentence, normal_embedding])\n",
    "\n",
    "\n",
    "    # remove paddings from cosines from both layers\n",
    "    hate_cosine_nopads = remove_padsV2(name=\"remove_cls_pad_hate\")([hate_cosine, ids])   # (None,MAX_LENGTH,PROJECTION_DIM)\n",
    "    offensive_cosine_nopads = remove_padsV2(name=\"remove_cls_pad_offensive\")([offensive_cosine, ids])\n",
    "    normal_cosine_nopads = remove_padsV2(name=\"remove_cls_pad_normal\")([normal_cosine, ids])\n",
    "\n",
    "\n",
    "\n",
    "\n",
    "\n",
    "    # merge (v1: mean, v2: max)\n",
    "    merged = layers.Lambda(function=merge_functionV2,\n",
    "                    name='TakeMaxCosineAndCompare')([hate_cosine_nopads, offensive_cosine_nopads,normal_cosine_nopads])  # (None,1,1002)    # !these values are not really identical beacause both embedding layers had different random weights\n",
    "\n",
    "    merged = layers.Flatten(data_format = \"channels_first\")(merged)\n",
    "\n",
    "\n",
    "    # CLASSIFICATION HEAD\n",
    "\n",
    "    # hidden = layers.Dense(612, activation='relu', name = \"hidden-1\", kernel_constraint=MaxNorm(3),\n",
    "    #                kernel_initializer = \"he_normal\")(merged)\n",
    "\n",
    "    hidden = layers.Dense(256, activation='relu', name = \"hidden-1\", kernel_constraint=MaxNorm(3),\n",
    "                   kernel_initializer = \"he_normal\")(merged)\n",
    "\n",
    "    # hidden = layers.Dropout(0.6, name=\"drop-1\")(hidden)\n",
    "    hidden = layers.Dense(64, activation='relu', name = \"hidden-2\", kernel_constraint=MaxNorm(3),\n",
    "                   kernel_initializer = \"he_normal\")(hidden)\n",
    "    # hidden = layers.Dropout(0.3, name=\"drop-2\")(hidden)\n",
    "    hidden = layers.Dense(16, activation='relu', name = \"hidden-3\", kernel_constraint=MaxNorm(3),\n",
    "                   kernel_initializer= \"he_normal\")(hidden)\n",
    "    # hidden = layers.Dropout(0.25, name=\"drop-3\")(hidden)\n",
    "\n",
    "\n",
    "    predictions = layers.Dense(3, activation= \"softmax\" , name='classification_layer')(hidden)\n",
    "\n",
    "    model = Model(inputs=[ids, mks, projection_space],outputs= predictions)\n",
    "\n",
    "    \n",
    "    \n",
    "    hate_normal_loss = tf.keras.losses.CosineSimilarity(name='hate_normal_loss')(tf.math.reduce_mean(hate_cosine, axis=1), tf.math.reduce_mean(normal_cosine, axis=1))\n",
    "    model.add_loss((1.0/(1.01 + hate_normal_loss)))\n",
    "    \n",
    "    # Note that it is a number between -1 and 1. When it is a negative number between -1 and 0, 0 indicates orthogonality and values \n",
    "    # closer to -1 indicate greater similarity. The values closer to 1 indicate greater dissimilarity. \n",
    "    # This makes it usable as a loss function in a setting where you try to maximize the proximity between predictions and targets.\n",
    "\n",
    "    hate_offensive_loss = tf.keras.losses.CosineSimilarity(name='hate_offensive_loss')(tf.math.reduce_mean(hate_cosine, axis=1), tf.math.reduce_mean(offensive_cosine, axis=1))\n",
    "    model.add_loss((1.0/(1.01 + hate_offensive_loss)))\n",
    "\n",
    "    offensive_normal_loss = tf.keras.losses.CosineSimilarity(name='offensive_normal_loss')(tf.math.reduce_mean(offensive_cosine, axis=1), tf.math.reduce_mean(normal_cosine, axis=1))\n",
    "    model.add_loss((1.0/(1.01 + offensive_normal_loss)))\n",
    "\n",
    "\n",
    "\n",
    "    posStdDevLoss = tf.math.reduce_std(hate_cosine)\n",
    "    negStdDevLoss = tf.math.reduce_std(offensive_cosine)\n",
    "    norStdDevLoss = tf.math.reduce_std(normal_cosine)\n",
    "\n",
    "#     ## model.add_loss(1.0 / (posStdDevLoss + 0.001))\n",
    "#     ## model.add_loss(1.0 / (negStdDevLoss + 0.001))\n",
    "\n",
    "    model.add_loss(-1 * posStdDevLoss)\n",
    "    model.add_loss(-1 * negStdDevLoss)\n",
    "    model.add_loss(-1 * norStdDevLoss)\n",
    "    # cross entropy loss\n",
    "    # cross entropy loss\n",
    "    '''If your 𝑌𝑖\n",
    "    # 's are one-hot encoded, use categorical_crossentropy. Examples (for a 3-class classification): [1,0,0] , [0,1,0], [0,0,1]\n",
    "    # But if your 𝑌𝑖\n",
    "    # 's are integers, use sparse_categorical_crossentropy. \"Examples for above 3-class classification problem: [1] , [2], [3]\n",
    "    crossEntropLoss = tf.keras.losses.SparseCategoricalCrossentropy(from_logits=False)'''\n",
    "\n",
    "    crossEntropLoss = tf.keras.losses.SparseCategoricalCrossentropy(from_logits=False)\n",
    "\n",
    "\n",
    "\n",
    "    # optimize can compile\n",
    "    optimizer = tf.keras.optimizers.Adam(learning_rate = 1e-2, clipnorm = 1.0)\n",
    "    model.compile(loss = crossEntropLoss , optimizer = optimizer, metrics=[\"accuracy\"])\n",
    "    \n",
    "    \n",
    "    return model\n",
    "\n",
    "\n",
    "# increase stdDevLoss in projection dimension\n",
    "def StdDevLoss(x):                                                              # (None,MAX_LEN,PROJECTION_DIM)\n",
    "\n",
    "    stdDev = tf.math.reduce_std(x,axis=2)                                         # (None,MAX_LEN)\n",
    "    stdDevLoss = tf.math.reduce_mean(stdDev)\n",
    "\n",
    "    return stdDevLoss\n",
    "\n",
    "    \n",
    "\n"
   ]
  },
  {
   "cell_type": "code",
   "execution_count": 28,
   "metadata": {
    "tags": []
   },
   "outputs": [
    {
     "name": "stdout",
     "output_type": "stream",
     "text": [
      "Epoch 1/6\n",
      "1093/1093 [==============================] - 54s 43ms/step - loss: 1.4422 - accuracy: 0.8661 - val_loss: 0.9781 - val_accuracy: 0.8964\n",
      "\n",
      "Epoch 00001: val_loss improved from inf to 0.97808, saving model to /home/naseem_fordham/Spock-paper/Spock_Hateoffensive/with_std/CS_20/CS_20.h5\n",
      "Epoch 2/6\n",
      "1093/1093 [==============================] - 45s 41ms/step - loss: 0.8919 - accuracy: 0.8888 - val_loss: 0.8315 - val_accuracy: 0.8907\n",
      "\n",
      "Epoch 00002: val_loss improved from 0.97808 to 0.83149, saving model to /home/naseem_fordham/Spock-paper/Spock_Hateoffensive/with_std/CS_20/CS_20.h5\n",
      "Epoch 3/6\n",
      "1093/1093 [==============================] - 45s 41ms/step - loss: 0.8223 - accuracy: 0.8924 - val_loss: 0.7940 - val_accuracy: 0.9008\n",
      "\n",
      "Epoch 00003: val_loss improved from 0.83149 to 0.79399, saving model to /home/naseem_fordham/Spock-paper/Spock_Hateoffensive/with_std/CS_20/CS_20.h5\n",
      "Epoch 4/6\n",
      "1093/1093 [==============================] - 45s 41ms/step - loss: 0.7976 - accuracy: 0.8974 - val_loss: 0.7851 - val_accuracy: 0.8979\n",
      "\n",
      "Epoch 00004: val_loss improved from 0.79399 to 0.78511, saving model to /home/naseem_fordham/Spock-paper/Spock_Hateoffensive/with_std/CS_20/CS_20.h5\n",
      "Epoch 5/6\n",
      "1093/1093 [==============================] - 45s 41ms/step - loss: 0.7848 - accuracy: 0.8980 - val_loss: 0.7670 - val_accuracy: 0.9075\n",
      "\n",
      "Epoch 00005: val_loss improved from 0.78511 to 0.76697, saving model to /home/naseem_fordham/Spock-paper/Spock_Hateoffensive/with_std/CS_20/CS_20.h5\n",
      "Epoch 6/6\n",
      "1093/1093 [==============================] - 45s 41ms/step - loss: 0.7784 - accuracy: 0.9001 - val_loss: 0.7974 - val_accuracy: 0.8990\n",
      "\n",
      "Epoch 00006: val_loss did not improve from 0.76697\n",
      "Epoch 1/6\n",
      "1093/1093 [==============================] - 53s 43ms/step - loss: 1.4292 - accuracy: 0.8651 - val_loss: 0.9976 - val_accuracy: 0.8954\n",
      "\n",
      "Epoch 00001: val_loss improved from inf to 0.99761, saving model to /home/naseem_fordham/Spock-paper/Spock_Hateoffensive/with_std/CS_30/CS_30.h5\n",
      "Epoch 2/6\n",
      "1093/1093 [==============================] - 45s 41ms/step - loss: 0.9528 - accuracy: 0.8859 - val_loss: 0.8658 - val_accuracy: 0.9072\n",
      "\n",
      "Epoch 00002: val_loss improved from 0.99761 to 0.86579, saving model to /home/naseem_fordham/Spock-paper/Spock_Hateoffensive/with_std/CS_30/CS_30.h5\n",
      "Epoch 3/6\n",
      "1093/1093 [==============================] - 45s 41ms/step - loss: 0.8612 - accuracy: 0.8910 - val_loss: 0.8365 - val_accuracy: 0.9039\n",
      "\n",
      "Epoch 00003: val_loss improved from 0.86579 to 0.83650, saving model to /home/naseem_fordham/Spock-paper/Spock_Hateoffensive/with_std/CS_30/CS_30.h5\n",
      "Epoch 4/6\n",
      "1093/1093 [==============================] - 45s 41ms/step - loss: 0.8172 - accuracy: 0.8957 - val_loss: 0.8102 - val_accuracy: 0.9111\n",
      "\n",
      "Epoch 00004: val_loss improved from 0.83650 to 0.81019, saving model to /home/naseem_fordham/Spock-paper/Spock_Hateoffensive/with_std/CS_30/CS_30.h5\n",
      "Epoch 5/6\n",
      "1093/1093 [==============================] - 45s 41ms/step - loss: 0.8138 - accuracy: 0.8948 - val_loss: 0.7757 - val_accuracy: 0.9113\n",
      "\n",
      "Epoch 00005: val_loss improved from 0.81019 to 0.77566, saving model to /home/naseem_fordham/Spock-paper/Spock_Hateoffensive/with_std/CS_30/CS_30.h5\n",
      "Epoch 6/6\n",
      "1093/1093 [==============================] - 45s 41ms/step - loss: 0.8015 - accuracy: 0.8994 - val_loss: 0.7802 - val_accuracy: 0.9031\n",
      "\n",
      "Epoch 00006: val_loss did not improve from 0.77566\n"
     ]
    }
   ],
   "source": [
    "import os\n",
    "l=[20,30]\n",
    "\n",
    "MAX_LENGTH = 30\n",
    "BATCH_SIZE = 32\n",
    "VECTOR_DIM = 768\n",
    "for PROJECTION_DIM in l:\n",
    "    spock_model1= spock_model(MAX_LENGTH, PROJECTION_DIM)\n",
    "# spock_model1\n",
    "\n",
    "# BASE_PATH = \"/gdrive/Shareddrives/Thesis/\"\n",
    "\n",
    "\n",
    "\n",
    "    BASE_PATH = f\"/home/naseem_fordham/Spock-paper/Spock_Hateoffensive/with_std/CS_{PROJECTION_DIM}\"\n",
    "\n",
    "    train_ds,val_ds=dataprep(PROJECTION_DIM)\n",
    "\n",
    "    # uncomment while training:\n",
    "    if not os.path.exists(BASE_PATH):\n",
    "        os.makedirs(BASE_PATH)\n",
    "\n",
    "    modelcheckpoint = tf.keras.callbacks.ModelCheckpoint(\n",
    "        filepath= f\"{BASE_PATH}/CS_{PROJECTION_DIM}.h5\",\n",
    "        monitor = \"val_loss\",\n",
    "        verbose = 1,\n",
    "        save_best_only = True,\n",
    "        save_weights_only = True,\n",
    "        mode = \"auto\",\n",
    "    )\n",
    "\n",
    "    earlystopping = tf.keras.callbacks.EarlyStopping(\n",
    "        monitor=\"val_loss\",\n",
    "        min_delta=0,\n",
    "        patience=5,\n",
    "        verbose=1,\n",
    "        mode=\"auto\",\n",
    "        restore_best_weights=True)\n",
    "\n",
    "    len(train_df) // BATCH_SIZE\n",
    "\n",
    "    EPOCHS = 6\n",
    "    history = spock_model1.fit(\n",
    "        train_ds,\n",
    "        steps_per_epoch = len(train_df) // BATCH_SIZE,\n",
    "        validation_data = val_ds,\n",
    "        epochs = EPOCHS,\n",
    "        callbacks = [modelcheckpoint]\n",
    "    )\n",
    "\n",
    "\n",
    "    with open(f\"{BASE_PATH}/training_history{PROJECTION_DIM}.pkl\",\"wb\") as hist:\n",
    "      pickle.dump(history.history,hist)"
   ]
  },
  {
   "cell_type": "code",
   "execution_count": null,
   "metadata": {
    "id": "vv-I4CfbUJfp",
    "jupyter": {
     "source_hidden": true
    },
    "tags": []
   },
   "outputs": [],
   "source": [
    "# # model.summary()\n",
    "# # MAX_LENGTH = 30\n",
    "# # BATCH_SIZE = 16\n",
    "# # PROJECTION_DIM =30\n",
    "# # VECTOR_DIM = 768\n",
    "# BASE_PATH='/home/naseem_fordham/Spock-paper/Spock-paper/Spock_Hateoffensive/'\n",
    "\n",
    "# train_ds,val_ds=dataprep(PROJECTION_DIM)\n",
    "\n",
    "\n",
    "# modelcheckpoint = tf.keras.callbacks.ModelCheckpoint(\n",
    "#     filepath= BASE_PATH + \"/cs128.h5\",\n",
    "#     monitor = \"val_loss\",\n",
    "#     verbose = 1,\n",
    "#     save_best_only = True,\n",
    "#     save_weights_only = True,\n",
    "#     mode = \"auto\",\n",
    "# )\n",
    "\n",
    "# earlystopping = tf.keras.callbacks.EarlyStopping(\n",
    "#     monitor=\"val_loss\",\n",
    "#     min_delta=0,\n",
    "#     patience=5,\n",
    "#     verbose=1,\n",
    "#     mode=\"auto\",\n",
    "#     restore_best_weights=True)\n",
    "\n",
    "# len(train_df) // BATCH_SIZE\n",
    "\n",
    "# EPOCHS = 5\n",
    "# history = spock_model1.fit(\n",
    "#     train_ds,\n",
    "#     steps_per_epoch = len(train_df) // BATCH_SIZE,\n",
    "#     validation_data = val_ds,\n",
    "#     epochs = EPOCHS,\n",
    "#     callbacks = [modelcheckpoint]\n",
    "# )"
   ]
  },
  {
   "cell_type": "markdown",
   "metadata": {
    "id": "NQjDH4fDUSj4"
   },
   "source": [
    "Loss Function"
   ]
  },
  {
   "cell_type": "code",
   "execution_count": null,
   "metadata": {
    "jupyter": {
     "source_hidden": true
    },
    "tags": []
   },
   "outputs": [],
   "source": [
    "# import tensorflow as tf\n",
    "# from tensorflow.keras import layers, Model\n",
    "# class SpockModel(tf.keras.Model):\n",
    "#     def __init__(self, max_length, projection_dim, vector_dim, bertModel):\n",
    "#         super(SpockModel, self).__init__()\n",
    "#         self.max_length = max_length\n",
    "#         self.projection_dim = projection_dim\n",
    "#         self.vector_dim = vector_dim\n",
    "#         self.bert_model = bertModel  # Replace None with your actual BERT model\n",
    "#   # def build(self, input_shape):\n",
    "\n",
    "#         self.ids = layers.Input(shape=(self.max_length,), dtype=tf.int32, name=\"input_ids\")\n",
    "#         self.mks = layers.Input(shape=(self.max_length,), dtype=tf.int32, name=\"attention_masks\")\n",
    "#         self.projection_space = layers.Input(name=\"space\", shape=(self.projection_dim,))\n",
    "#         self.input_sentence = self.bert_model(self.ids, attention_mask=self.mks)[0]\n",
    "\n",
    "#         self.hate_embedding_layer = layers.Embedding(\n",
    "#             name=\"hate_embedding\",\n",
    "#             input_dim=self.projection_dim,\n",
    "#             output_dim=self.vector_dim,\n",
    "#             embeddings_initializer=tf.random_uniform_initializer(minval=-1., maxval=1.),\n",
    "#             input_length=self.projection_dim,\n",
    "#             trainable=True,\n",
    "#             mask_zero=True\n",
    "#         )\n",
    "        \n",
    "#         self.offensive_embedding_layer =  layers.Embedding(\n",
    "#             name=\"offensive_embedding\",\n",
    "#             input_dim=self.projection_dim,\n",
    "#             output_dim=self.vector_dim,\n",
    "#             embeddings_initializer=tf.random_uniform_initializer(minval=-1., maxval=1.),\n",
    "#             input_length=self.projection_dim,\n",
    "#             trainable=True,\n",
    "#             mask_zero=True\n",
    "#         )\n",
    "\n",
    "#         self.normal_embedding_layer = layers.Embedding(\n",
    "#             name=\"normal_embedding\",\n",
    "#             input_dim=self.projection_dim,\n",
    "#             output_dim=self.vector_dim,\n",
    "#             embeddings_initializer=tf.random_uniform_initializer(minval=-1., maxval=1.),\n",
    "#             input_length=self.projection_dim,  # Use self.projection_dim\n",
    "#             trainable=True,\n",
    "#             mask_zero=True\n",
    "#         )\n",
    "        \n",
    "#         # Define cosine layers as class attributes\n",
    "#         self.hate_cosine = layers.Lambda(cosine_similarity_projected, name='cosine_hate')\n",
    "#         self.offensive_cosine = layers.Lambda(cosine_similarity_projected, name='cosine_offensive')\n",
    "#         self.normal_cosine = layers.Lambda(cosine_similarity_projected, name='cosine_normal')\n",
    "\n",
    "#     def call(self, inputs):\n",
    "#         input_ids, attention_masks, projection_space = inputs\n",
    "\n",
    "#         hate_embedding_np = self.hate_embedding_layer(projection_space)\n",
    "#         offensive_embedding_np = self.offensive_embedding_layer(projection_space)     # (None,PROJECTION_DIM,VECTOR_DIM)\n",
    "#         normal_embedding_np = self.normal_embedding_layer(projection_space)     # (None,PROJECTION_DIM,VECTOR_DIM)\n",
    "\n",
    "\n",
    "#         # Calculate embeddings for projection space\n",
    "#         hate_embedding = layers.Permute((2, 1), input_shape=(self.projection_dim, self.vector_dim))(hate_embedding_np)\n",
    "#         offensive_embedding = layers.Permute((2, 1), input_shape=(self.projection_dim, self.vector_dim))(self.offensive_embedding_layer(offensive_embedding_np))\n",
    "#         normal_embedding = layers.Permute((2, 1), input_shape=(self.projection_dim, self.vector_dim))(self.normal_embedding_layer(normal_embedding_np))\n",
    "\n",
    "# #         # Calculate cosine similarities\n",
    "# #         hate_cosine = layers.Lambda(cosine_similarity_projected, name='cosine_hate')([self.input_sentence, hate_embedding])\n",
    "# #         offensive_cosine = layers.Lambda(cosine_similarity_projected, name='cosine_offensive')([self.input_sentence, offensive_embedding])\n",
    "# #         normal_cosine = layers.Lambda(cosine_similarity_projected, name='cosine_normal')([self.input_sentence, normal_embedding])\n",
    "        \n",
    "              \n",
    "#         hate_cosine = self.hate_cosine([self.input_sentence, hate_embedding_np])\n",
    "#         offensive_cosine = self.offensive_cosine([self.input_sentence, offensive_embedding_np])\n",
    "#         normal_cosine = self.normal_cosine([self.input_sentence, normal_embedding_np])\n",
    "\n",
    "#         # Remove paddings from cosines\n",
    "#         hate_cosine_nopads = remove_padsV2(name=\"remove_cls_pad_hate\")([hate_cosine, input_ids])\n",
    "#         offensive_cosine_nopads = remove_padsV2(name=\"remove_cls_pad_offensive\")([offensive_cosine, input_ids])\n",
    "#         normal_cosine_nopads = remove_padsV2(name=\"remove_cls_pad_normal\")([normal_cosine, input_ids])\n",
    "  \n",
    "\n",
    "#         # Merge (v1: mean, v2: max)\n",
    "#         merged = layers.Lambda(merge_functionV2, name='TakeMaxCosineAndCompare')([hate_cosine_nopads, offensive_cosine_nopads, normal_cosine_nopads])\n",
    "#         merged = layers.Flatten(data_format=\"channels_first\")(merged)\n",
    "\n",
    "#         # Classification head\n",
    "#         hidden = layers.Dense(256, activation='relu', name=\"hidden-1\", kernel_constraint=MaxNorm(3), kernel_initializer=\"he_normal\")(merged)\n",
    "#         hidden = layers.Dense(64, activation='relu', name=\"hidden-2\", kernel_constraint=MaxNorm(3), kernel_initializer=\"he_normal\")(hidden)\n",
    "#         hidden = layers.Dense(16, activation='relu', name=\"hidden-3\", kernel_constraint=MaxNorm(3), kernel_initializer=\"he_normal\")(hidden)\n",
    "#         predictions = layers.Dense(3, activation=\"softmax\", name='classification_layer')(hidden)\n",
    "\n",
    "#         return predictions\n",
    "\n",
    "#     def compile_model(self,inputs):\n",
    "#         hate_cosine,normal_cosine,offensive_cosine=inputs\n",
    "#         # Define your losses, add_loss, and compile the model here\n",
    "#         # ...\n",
    "#         hate_normal_loss = tf.keras.losses.CosineSimilarity(name='hate_normal_loss')(tf.math.reduce_mean(self.hate_cosine, axis=1), tf.math.reduce_mean(self.normal_cosine, axis=1))\n",
    "#         model.add_loss((1.0/(1.01 + hate_normal_loss)))\n",
    "\n",
    "#         hate_offensive_loss = tf.keras.losses.CosineSimilarity(name='hate_offensive_loss')(tf.math.reduce_mean(hate_cosine, axis=1), tf.math.reduce_mean(offensive_cosine, axis=1))\n",
    "#         model.add_loss((1.0/(1.01 + hate_normal_loss)))\n",
    "\n",
    "#         offensive_normal_loss = tf.keras.losses.CosineSimilarity(name='offensive_normal_loss')(tf.math.reduce_mean(offensive_cosine, axis=1), tf.math.reduce_mean(normal_cosine, axis=1))\n",
    "#         model.add_loss((1.0/(1.01 + offensive_normal_loss)))\n",
    "\n",
    "\n",
    "#         # # Add the losses to the model with unique names\n",
    "#         model.add_loss((1.0 / (1.01 + hate_normal_loss)))\n",
    "#         model.add_loss((1.0 / (1.01 + hate_offensive_loss)))\n",
    "#         model.add_loss((1.0 / (1.01 + offensive_normal_loss)))\n",
    "\n",
    "\n",
    "\n",
    "\n",
    "\n",
    "#         posStdDevLoss = StdDevLoss(hate_cosine)\n",
    "#         negStdDevLoss = StdDevLoss(offensive_cosine)\n",
    "#         norStdDevLoss = StdDevLoss(normal_cosine)\n",
    "\n",
    "\n",
    "#         model.add_loss(-1 * posStdDevLoss)\n",
    "#         model.add_loss(-1 * negStdDevLoss)\n",
    "#         model.add_loss(-1 * norStdDevLoss)\n",
    "#         # cross entropy loss\n",
    "#         # cross entropy loss\n",
    "#         '''If your 𝑌𝑖\n",
    "#         # 's are one-hot encoded, use categorical_crossentropy. Examples (for a 3-class classification): [1,0,0] , [0,1,0], [0,0,1]\n",
    "#         # But if your 𝑌𝑖\n",
    "#         # 's are integers, use sparse_categorical_crossentropy. \"Examples for above 3-class classification problem: [1] , [2], [3]\n",
    "#         crossEntropLoss = tf.keras.losses.SparseCategoricalCrossentropy(from_logits=False)'''\n",
    "\n",
    "#         crossEntropLoss = tf.keras.losses.SparseCategoricalCrossentropy(from_logits=False)\n",
    "\n",
    "\n",
    "\n",
    "#         # optimize can compile\n",
    "#         optimizer = tf.keras.optimizers.Adam(learning_rate = 1e-2, clipnorm = 1.0)\n",
    "#         model.compile(loss = crossEntropLoss , optimizer = optimizer, metrics=[\"accuracy\"])\n",
    "\n",
    "# # Example usage:\n",
    "# max_length = 30  # Replace with your desired max length\n",
    "# projection_dim = 10  # Replace with your desired projection dimension\n",
    "# vector_dim = 128  # Replace with your desired vector dimension\n",
    "\n",
    "# spock_model = SpockModel(max_length, projection_dim, vector_dim,bertModel)\n",
    "# spock_model.compile_model(inputs)\n"
   ]
  },
  {
   "cell_type": "code",
   "execution_count": null,
   "metadata": {
    "jupyter": {
     "source_hidden": true
    },
    "tags": []
   },
   "outputs": [],
   "source": [
    "# import tensorflow as tf\n",
    "# from tensorflow.keras import layers, Model\n",
    "# from tensorflow.keras.constraints import MaxNorm\n",
    "\n",
    "# class SpockModel(tf.keras.Model):\n",
    "#     def __init__(self, max_length, projection_dim, vector_dim, bertModel):\n",
    "#         super(SpockModel, self).__init__()\n",
    "#         self.max_length = max_length\n",
    "#         self.projection_dim = projection_dim\n",
    "#         self.vector_dim = vector_dim\n",
    "#         self.bert_model = bertModel  # Replace None with your actual BERT model\n",
    "#         self.ids = layers.Input(shape=(self.max_length,), dtype=tf.int32, name=\"input_ids\")\n",
    "#         self.mks = layers.Input(shape=(self.max_length,), dtype=tf.int32, name=\"attention_masks\")\n",
    "#         self.projection_space = layers.Input(name=\"space\", shape=(self.projection_dim,))\n",
    "\n",
    "#         self.input_sentence = self.bert_model(self.ids, attention_mask=self.mks)[0]\n",
    "\n",
    "#         # Define the embedding layers in the constructor\n",
    "#         self.hate_embedding_layer = layers.Embedding(\n",
    "#             name=\"hate_embedding\",\n",
    "#             input_dim=self.projection_dim,\n",
    "#             output_dim=self.vector_dim,\n",
    "#             embeddings_initializer=tf.random_uniform_initializer(minval=-1., maxval=1.),\n",
    "#             input_length=self.projection_dim,\n",
    "#             trainable=True,\n",
    "#             mask_zero=True\n",
    "#         )\n",
    "\n",
    "#         self.offensive_embedding_layer = layers.Embedding(\n",
    "#             name=\"offensive_embedding\",\n",
    "#             input_dim=self.projection_dim,\n",
    "#             output_dim=self.vector_dim,\n",
    "#             embeddings_initializer=tf.random_uniform_initializer(minval=-1., maxval=1.),\n",
    "#             input_length=self.projection_dim,\n",
    "#             trainable=True,\n",
    "#             mask_zero=True\n",
    "#         )\n",
    "\n",
    "#         self.normal_embedding_layer = layers.Embedding(\n",
    "#             name=\"normal_embedding\",\n",
    "#             input_dim=self.projection_dim,\n",
    "#             output_dim=self.vector_dim,\n",
    "#             embeddings_initializer=tf.random_uniform_initializer(minval=-1., maxval=1.),\n",
    "#             input_length=self.projection_dim,\n",
    "#             trainable=True,\n",
    "#             mask_zero=True\n",
    "#         )\n",
    "\n",
    "\n",
    "\n",
    "\n",
    "\n",
    "        \n",
    "\n",
    "#     def call(self, inputs):\n",
    "#         input_ids, attention_masks, projection_space = inputs\n",
    "\n",
    "#         hate_embedding_np = self.hate_embedding_layer(projection_space)\n",
    "#         offensive_embedding_np = self.offensive_embedding_layer(projection_space)\n",
    "#         normal_embedding_np = self.normal_embedding_layer(projection_space)\n",
    "\n",
    "#         # Calculate embeddings for projection space\n",
    "#         hate_embedding = layers.Permute((2, 1), input_shape=(self.projection_dim, self.vector_dim))(hate_embedding_np)\n",
    "#         offensive_embedding = layers.Permute((2, 1), input_shape=(self.projection_dim, self.vector_dim))(offensive_embedding_np)\n",
    "#         normal_embedding = layers.Permute((2, 1), input_shape=(self.projection_dim, self.vector_dim))(normal_embedding_np)\n",
    "\n",
    "#         # Calculate cosine similarities\n",
    "#         hate_cosine = layers.Lambda(cosine_similarity_projected, name='cosine_hate')([self.input_sentence, hate_embedding])\n",
    "#         offensive_cosine = layers.Lambda(cosine_similarity_projected, name='cosine_offensive')([self.input_sentence, offensive_embedding])\n",
    "#         normal_cosine = layers.Lambda(cosine_similarity_projected, name='cosine_normal')([self.input_sentence, normal_embedding])\n",
    "\n",
    "#         # Remove paddings from cosines\n",
    "#         hate_cosine_nopads = remove_padsV2(name=\"remove_cls_pad_hate\")([hate_cosine, input_ids])\n",
    "#         offensive_cosine_nopads = remove_padsV2(name=\"remove_cls_pad_offensive\")([offensive_cosine, input_ids])\n",
    "#         normal_cosine_nopads = remove_padsV2(name=\"remove_cls_pad_normal\")([normal_cosine, input_ids])\n",
    "\n",
    "#         # Merge (v1: mean, v2: max)\n",
    "#         merged = layers.Lambda(merge_functionV2, name='TakeMaxCosineAndCompare')([hate_cosine_nopads, offensive_cosine_nopads, normal_cosine_nopads])\n",
    "#         merged = layers.Flatten(data_format=\"channels_first\")(merged)\n",
    "\n",
    "#         # Classification head\n",
    "#         hidden = layers.Dense(256, activation='relu', name=\"hidden-1\", kernel_constraint=MaxNorm(3), kernel_initializer=\"he_normal\")(merged)\n",
    "#         hidden = layers.Dense(64, activation='relu', name=\"hidden-2\", kernel_constraint=MaxNorm(3), kernel_initializer=\"he_normal\")(hidden)\n",
    "#         hidden = layers.Dense(16, activation='relu', name=\"hidden-3\", kernel_constraint=MaxNorm(3), kernel_initializer=\"he_normal\")(hidden)\n",
    "#         predictions = layers.Dense(3, activation=\"softmax\", name='classification_layer')(hidden)\n",
    "\n",
    "#         return predictions\n",
    "\n",
    "#     def compile_model(self):\n",
    "#         # Create inputs for hate_cosine, normal_cosine, and offensive_cosine\n",
    "#         input_ids = layers.Input(shape=(self.max_length,), dtype=tf.int32, name=\"input_ids\")\n",
    "#         attention_masks = layers.Input(shape=(self.max_length,), dtype=tf.int32, name=\"attention_masks\")\n",
    "#         projection_space = layers.Input(name=\"space\", shape=(self.projection_dim,))\n",
    "\n",
    "#         # Create model with input_ids, attention_masks, and projection_space\n",
    "#         model = Model(inputs=[input_ids, attention_masks, projection_space], outputs=self.call([input_ids, attention_masks, projection_space]))\n",
    "\n",
    "#         # Calculate cosine similarities\n",
    "#         hate_embedding = self.hate_embedding_layer(projection_space)\n",
    "#         offensive_embedding = self.offensive_embedding_layer(projection_space)\n",
    "#         normal_embedding = self.normal_embedding_layer(projection_space)\n",
    "\n",
    "#         hate_cosine = layers.Lambda(cosine_similarity_projected, name='cosine_hate')([self.input_sentence, hate_embedding])\n",
    "#         offensive_cosine = layers.Lambda(cosine_similarity_projected, name='cosine_offensive')([self.input_sentence, offensive_embedding])\n",
    "#         normal_cosine = layers.Lambda(cosine_similarity_projected, name='cosine_normal')([self.input_sentence, normal_embedding])\n",
    "\n",
    "#         # Define your losses, add_loss, and compile the model here\n",
    "#         hate_normal_loss = tf.keras.losses.CosineSimilarity(name='hate_normal_loss')(tf.math.reduce_mean(hate_cosine, axis=1), tf.math.reduce_mean(normal_cosine, axis=1))\n",
    "#         model.add_loss((1.0 / (1.01 + hate_normal_loss)))\n",
    "\n",
    "#         hate_offensive_loss = tf.keras.losses.CosineSimilarity(name='hate_offensive_loss')(tf.math.reduce_mean(hate_cosine, axis=1), tf.math.reduce_mean(offensive_cosine, axis=1))\n",
    "#         model.add_loss((1.0 / (1.01 + hate_offensive_loss)))\n",
    "\n",
    "#         offensive_normal_loss = tf.keras.losses.CosineSimilarity(name='offensive_normal_loss')(tf.math.reduce_mean(offensive_cosine, axis=1), tf.math.reduce_mean(normal_cosine, axis=1))\n",
    "#         model.add_loss((1.0 / (1.01 + offensive_normal_loss)))\n",
    "\n",
    "#         # Cross-entropy loss\n",
    "#         crossEntropLoss = tf.keras.losses.SparseCategoricalCrossentropy(from_logits=False)\n",
    "\n",
    "#         # Optimize and compile\n",
    "#         optimizer = tf.keras.optimizers.Adam(learning_rate=1e-2, clipnorm=1.0)\n",
    "#         model.compile(loss=crossEntropLoss, optimizer=optimizer, metrics=[\"accuracy\"])\n",
    "\n",
    "#         return model\n",
    "\n",
    "# # Example usage:\n",
    "# max_length = 30  # Replace with your desired max length\n",
    "# projection_dim = 10  # Replace with your desired projection dimension\n",
    "# vector_dim = 128  # Replace with your desired vector dimension\n",
    "\n",
    "# # Replace bertModel with your actual BERT model\n",
    "# bertModel = None  # Replace None with your actual BERT model\n",
    "# spock_model = SpockModel(max_length, projection_dim, vector_dim, bertModel)\n",
    "# compiled_model = spock_model.compile_model()\n",
    "# compiled_model.summary()\n"
   ]
  },
  {
   "cell_type": "code",
   "execution_count": null,
   "metadata": {
    "id": "c3e8jR_SUJ6e",
    "jupyter": {
     "source_hidden": true
    },
    "tags": []
   },
   "outputs": [],
   "source": [
    "# # reduce similarity among projection spaces\n",
    "# # projection_loss = tf.keras.losses.CosineSimilarity()(tf.math.reduce_mean(hate_cosine, axis=1), tf.math.reduce_mean(offensive_cosine, axis=1))\n",
    "# # model.add_loss((1.0/(1.01 + projection_loss)))\n",
    "\n",
    "# hate_normal_loss = tf.keras.losses.CosineSimilarity(name='hate_normal_loss')(tf.math.reduce_mean(hate_cosine, axis=1), tf.math.reduce_mean(normal_cosine, axis=1))\n",
    "# model.add_loss((1.0/(1.01 + hate_normal_loss)))\n",
    "\n",
    "# hate_offensive_loss = tf.keras.losses.CosineSimilarity(name='hate_offensive_loss')(tf.math.reduce_mean(hate_cosine, axis=1), tf.math.reduce_mean(offensive_cosine, axis=1))\n",
    "# model.add_loss((1.0/(1.01 + hate_normal_loss)))\n",
    "\n",
    "# offensive_normal_loss = tf.keras.losses.CosineSimilarity(name='offensive_normal_loss')(tf.math.reduce_mean(offensive_cosine, axis=1), tf.math.reduce_mean(normal_cosine, axis=1))\n",
    "# model.add_loss((1.0/(1.01 + offensive_normal_loss)))\n",
    "\n",
    "\n",
    "# # # Add the losses to the model with unique names\n",
    "# model.add_loss((1.0 / (1.01 + hate_normal_loss)))\n",
    "# model.add_loss((1.0 / (1.01 + hate_offensive_loss)))\n",
    "# model.add_loss((1.0 / (1.01 + offensive_normal_loss)))\n",
    "\n",
    "\n",
    "# # increase stdDevLoss in projection dimension\n",
    "# def StdDevLoss(x):                                                              # (None,MAX_LEN,PROJECTION_DIM)\n",
    "\n",
    "#   stdDev = tf.math.reduce_std(x,axis=2)                                         # (None,MAX_LEN)\n",
    "#   stdDevLoss = tf.math.reduce_mean(stdDev)\n",
    "\n",
    "#   return stdDevLoss\n",
    "\n",
    "\n",
    "# posStdDevLoss = StdDevLoss(hate_cosine)\n",
    "# negStdDevLoss = StdDevLoss(offensive_cosine)\n",
    "# norStdDevLoss = StdDevLoss(normal_cosine)\n",
    "\n",
    "# ## model.add_loss(1.0 / (posStdDevLoss + 0.001))\n",
    "# ## model.add_loss(1.0 / (negStdDevLoss + 0.001))\n",
    "\n",
    "# model.add_loss(-1 * posStdDevLoss)\n",
    "# model.add_loss(-1 * negStdDevLoss)\n",
    "# model.add_loss(-1 * norStdDevLoss)\n",
    "# # cross entropy loss\n",
    "# # cross entropy loss\n",
    "# '''If your 𝑌𝑖\n",
    "# # 's are one-hot encoded, use categorical_crossentropy. Examples (for a 3-class classification): [1,0,0] , [0,1,0], [0,0,1]\n",
    "# # But if your 𝑌𝑖\n",
    "# # 's are integers, use sparse_categorical_crossentropy. \"Examples for above 3-class classification problem: [1] , [2], [3]\n",
    "# crossEntropLoss = tf.keras.losses.SparseCategoricalCrossentropy(from_logits=False)'''\n",
    "\n",
    "# crossEntropLoss = tf.keras.losses.SparseCategoricalCrossentropy(from_logits=False)\n",
    "\n",
    "\n",
    "\n",
    "# # optimize can compile\n",
    "# optimizer = tf.keras.optimizers.Adam(learning_rate = 1e-2, clipnorm = 1.0)\n",
    "# model.compile(loss = crossEntropLoss , optimizer = optimizer, metrics=[\"accuracy\"])"
   ]
  },
  {
   "cell_type": "code",
   "execution_count": null,
   "metadata": {
    "jupyter": {
     "source_hidden": true
    },
    "tags": []
   },
   "outputs": [],
   "source": [
    "# BASE_PATH = f\"/home/naseem_fordham/Spock-paper/Spock_Hateoffensive/CS_{PROJECTION_DIM}\"\n",
    "# BASE_PATH"
   ]
  },
  {
   "cell_type": "code",
   "execution_count": null,
   "metadata": {
    "colab": {
     "base_uri": "https://localhost:8080/",
     "height": 435
    },
    "id": "OJHKxhG4Uphm",
    "jupyter": {
     "source_hidden": true
    },
    "outputId": "8e989294-bc36-4224-f212-269241763980",
    "tags": []
   },
   "outputs": [],
   "source": [
    "# # BASE_PATH = \"/gdrive/Shareddrives/Thesis/\"\n",
    "\n",
    "# import os\n",
    "\n",
    "# BASE_PATH = f\"/home/naseem_fordham/Spock-paper/Spock_Hateoffensive/CS_{PROJECTION_DIM}\"\n",
    "\n",
    "# train_ds,val_ds=dataprep(PROJECTION_DIM)\n",
    "\n",
    "# # uncomment while training:\n",
    "# if not os.path.exists(BASE_PATH):\n",
    "#     os.makedirs(BASE_PATH)\n",
    "\n",
    "# modelcheckpoint = tf.keras.callbacks.ModelCheckpoint(\n",
    "#     filepath= f\"{BASE_PATH}/CS_{PROJECTION_DIM}.h5\",\n",
    "#     monitor = \"val_loss\",\n",
    "#     verbose = 1,\n",
    "#     save_best_only = True,\n",
    "#     save_weights_only = True,\n",
    "#     mode = \"auto\",\n",
    "# )\n",
    "\n",
    "# earlystopping = tf.keras.callbacks.EarlyStopping(\n",
    "#     monitor=\"val_loss\",\n",
    "#     min_delta=0,\n",
    "#     patience=5,\n",
    "#     verbose=1,\n",
    "#     mode=\"auto\",\n",
    "#     restore_best_weights=True)\n",
    "\n",
    "# len(train_df) // BATCH_SIZE\n",
    "\n",
    "# EPOCHS = 5\n",
    "# history = spock_model1.fit(\n",
    "#     train_ds,\n",
    "#     steps_per_epoch = len(train_df) // BATCH_SIZE,\n",
    "#     validation_data = val_ds,\n",
    "#     epochs = EPOCHS,\n",
    "#     callbacks = [modelcheckpoint]\n",
    "# )\n",
    "\n",
    "\n",
    "# with open(f\"{BASE_PATH}/training_history{PROJECTION_DIM}.pkl\",\"wb\") as hist:\n",
    "#   pickle.dump(history.history,hist)"
   ]
  },
  {
   "cell_type": "code",
   "execution_count": 31,
   "metadata": {
    "tags": []
   },
   "outputs": [],
   "source": [
    "#accuracy plots\n",
    "from matplotlib import pyplot as plt\n",
    "\n",
    "def plot(history,path):\n",
    "    # Create a new figure for the combined plot\n",
    "    fig, axs = plt.subplots(1, 2, figsize=(16, 8))\n",
    "    \n",
    "    # Plot accuracy on the first subplot\n",
    "    axs[0].plot(history['accuracy'])\n",
    "    axs[0].plot(history['val_accuracy'])\n",
    "    axs[0].set_title('Model Accuracy', fontsize=12)\n",
    "    axs[0].set_ylim(0, 1, 0.1)\n",
    "    axs[0].set_ylabel('Accuracy', fontsize=12)\n",
    "    axs[0].set_xlabel('Epoch', fontsize=12)\n",
    "    axs[0].legend(['Train', 'Validation'], loc='upper left', fontsize=12)\n",
    "    \n",
    "    # Plot loss on the second subplot\n",
    "    axs[1].plot(history['loss'])\n",
    "    axs[1].plot(history['val_loss'])\n",
    "    axs[1].set_title('Model Loss', fontsize=12)\n",
    "    axs[1].set_ylim(0, 3, 0.1)\n",
    "    axs[1].set_ylabel('Loss', fontsize=12)\n",
    "    axs[1].set_xlabel('Epoch', fontsize=12)\n",
    "    axs[1].legend(['Train', 'Validation'], loc='upper left', fontsize=12)\n",
    "    \n",
    "    # Adjust spacing between subplots\n",
    "    plt.subplots_adjust(wspace=0.3)\n",
    "\n",
    "    # Save the combined plot as a single image\n",
    "    plt.savefig(path, dpi=100)"
   ]
  },
  {
   "cell_type": "markdown",
   "metadata": {},
   "source": [
    "# Model laoding from directory\n"
   ]
  },
  {
   "cell_type": "code",
   "execution_count": 33,
   "metadata": {
    "tags": []
   },
   "outputs": [
    {
     "name": "stderr",
     "output_type": "stream",
     "text": [
      "<ipython-input-31-c8fc0d432965>:12: MatplotlibDeprecationWarning: Passing the emit parameter of set_ylim() positionally is deprecated since Matplotlib 3.6; the parameter will become keyword-only two minor releases later.\n",
      "  axs[0].set_ylim(0, 1, 0.1)\n",
      "<ipython-input-31-c8fc0d432965>:21: MatplotlibDeprecationWarning: Passing the emit parameter of set_ylim() positionally is deprecated since Matplotlib 3.6; the parameter will become keyword-only two minor releases later.\n",
      "  axs[1].set_ylim(0, 3, 0.1)\n",
      "<ipython-input-31-c8fc0d432965>:12: MatplotlibDeprecationWarning: Passing the emit parameter of set_ylim() positionally is deprecated since Matplotlib 3.6; the parameter will become keyword-only two minor releases later.\n",
      "  axs[0].set_ylim(0, 1, 0.1)\n",
      "<ipython-input-31-c8fc0d432965>:21: MatplotlibDeprecationWarning: Passing the emit parameter of set_ylim() positionally is deprecated since Matplotlib 3.6; the parameter will become keyword-only two minor releases later.\n",
      "  axs[1].set_ylim(0, 3, 0.1)\n"
     ]
    },
    {
     "data": {
      "image/png": "[encoded data removed]",
      "text/plain": [
       "<Figure size 864x360 with 4 Axes>"
      ]
     },
     "metadata": {
      "needs_background": "light"
     },
     "output_type": "display_data"
    },
    {
     "data": {
      "image/png": "[encoded data removed]",
      "text/plain": [
       "<Figure size 1152x576 with 2 Axes>"
      ]
     },
     "metadata": {
      "needs_background": "light"
     },
     "output_type": "display_data"
    },
    {
     "data": {
      "image/png": "[encoded data removed]",
      "text/plain": [
       "<Figure size 864x360 with 4 Axes>"
      ]
     },
     "metadata": {
      "needs_background": "light"
     },
     "output_type": "display_data"
    },
    {
     "data": {
      "image/png": "[encoded data removed]",
      "text/plain": [
       "<Figure size 1152x576 with 2 Axes>"
      ]
     },
     "metadata": {
      "needs_background": "light"
     },
     "output_type": "display_data"
    }
   ],
   "source": [
    "# convert sigmoid outputs to labels\n",
    "import seaborn as sns\n",
    "def predictionLabels(i):\n",
    "     return np.argmax(i, axis=1)\n",
    "\n",
    "\n",
    "pattern = r\"_([0-9]+)$\"\n",
    "\n",
    "\n",
    "BASE_PATH = f\"/home/naseem_fordham/Spock-paper/Spock_Hateoffensive/with_std\"\n",
    "\n",
    "accuracy=[]\n",
    "# Iterate over subdirectories\n",
    "for folder_name in os.listdir(BASE_PATH):\n",
    "    folder_path = os.path.join(BASE_PATH, folder_name)\n",
    "\n",
    "    if os.path.isdir(folder_path):\n",
    "        match = re.search(pattern, folder_name)\n",
    "        if match:\n",
    "            model_number = match.group(1)\n",
    "            # print(folder_path)\n",
    "            spock_model2 = spock_model(MAX_LENGTH, int(model_number))\n",
    "            model_filename = os.path.join(folder_path, f\"CS_{model_number}.h5\")\n",
    "            # print(model_filename)\n",
    "\n",
    "            if os.path.exists(model_filename):\n",
    "                spock_model2.load_weights(model_filename)\n",
    "                \n",
    "                history=np.load(f\"{folder_path}/training_history{model_number}.pkl\",allow_pickle=True)\n",
    "                accuracy.append(history['val_accuracy'][-1])\n",
    "                \n",
    "                # print(f\"Loaded model from {model_filename,model_number}\")\n",
    "                train_ds, val_ds = dataprep(int(model_number))\n",
    "\n",
    "                # Calculate the confusion matrix\n",
    "                predictions = spock_model2.predict(val_ds)\n",
    "                predictedLabels = predictionLabels(predictions)\n",
    "                cm = confusion_matrix(val_df['class'].values, predictedLabels)\n",
    "\n",
    "                # Calculate the confusion matrix as percentages\n",
    "                cm_percentage = cm.astype('float') / cm.sum(axis=1)[:, np.newaxis]\n",
    "\n",
    "                # Create a ConfusionMatrixDisplay for the percentage confusion matrix\n",
    "                disp = ConfusionMatrixDisplay(confusion_matrix=cm_percentage, display_labels=['Hate', 'Offensive', 'Neither'])\n",
    "\n",
    "                # Calculate the classification report\n",
    "                clf_report = classification_report(val_df['class'],\n",
    "                                                   predictedLabels,\n",
    "                                                   target_names=['Hate', 'Offensive', 'Neither'],\n",
    "                                                   output_dict=True)\n",
    "\n",
    "                # Create a new figure for the combined plot\n",
    "                fig, axs = plt.subplots(1, 2, figsize=(12, 5))\n",
    "\n",
    "                # Plot the confusion matrix as percentages on the left\n",
    "                disp.plot(cmap=plt.cm.Blues, values_format=\".2f\", ax=axs[0])\n",
    "                axs[0].set_title(f'Confusion Matrix of CS_{model_number}')\n",
    "\n",
    "                # Plot the classification report as a heatmap on the right\n",
    "                sns.heatmap(pd.DataFrame(clf_report).iloc[:-1, :].T, annot=True, ax=axs[1])\n",
    "                axs[1].set_title(f'Classification Report of CS_{model_number}')\n",
    "\n",
    "                # Adjust spacing between subplots\n",
    "                plt.subplots_adjust(wspace=0.5)\n",
    "                \n",
    "                \n",
    "                           # Save the combined plot as a single image\n",
    "                plt.savefig(f'{folder_path}/combined_CS_{model_number}.png')\n",
    "                plot(history,f'{folder_path}/Acc_loss{model_number}.png')\n",
    "\n",
    "\n",
    "\n",
    "            \n"
   ]
  },
  {
   "cell_type": "markdown",
   "metadata": {
    "tags": []
   },
   "source": [
    "# Model Save "
   ]
  },
  {
   "cell_type": "code",
   "execution_count": null,
   "metadata": {
    "colab": {
     "base_uri": "https://localhost:8080/",
     "height": 424
    },
    "id": "U7gwzlktUtH9",
    "outputId": "56a7955b-b7bf-49f7-c6b5-135b4bcb0926"
   },
   "outputs": [],
   "source": [
    "# UNCOMMENT THIS CELL AFTER MODEL TRAINING\n",
    "\n",
    "# save model history\n",
    "\n",
    "with open(f\"{BASE_PATH}/training_historyV4.pkl\",\"wb\") as hist:\n",
    "  pickle.dump(history.history,hist)\n",
    "\n",
    "# history=np.save(f\"/home/naseem_fordham/Hate_Xplain/history/C_loss_history_{PROJE\"CTION_DIM}.npy\",history.history)"
   ]
  },
  {
   "cell_type": "markdown",
   "metadata": {},
   "source": [
    "# Load Weights and Model Evaluation"
   ]
  },
  {
   "cell_type": "code",
   "execution_count": null,
   "metadata": {
    "tags": []
   },
   "outputs": [],
   "source": [
    "# BASE_PATH = \"/home/naseem_fordham/Spock-paper/Spock_HateXplain\"\n",
    "model.load_weights(f\"{BASE_PATH}/cs128.h5\")\n",
    "history=np.load(f\"{BASE_PATH}/training_historyV4.pkl\",allow_pickle=True)"
   ]
  },
  {
   "cell_type": "code",
   "execution_count": null,
   "metadata": {
    "colab": {
     "base_uri": "https://localhost:8080/"
    },
    "id": "23gCGD8ZeJfE",
    "jupyter": {
     "source_hidden": true
    },
    "outputId": "43e84bd0-3285-47e0-9b26-f5ed8ba6102f",
    "tags": []
   },
   "outputs": [],
   "source": [
    "# # BASE_PATH='/home/naseem_fordham/Spock-paper/'\n",
    "# model.load_weights(f\"{BASE_PATH}/Modeltest1.h5\")\n",
    "# history=np.load(f\"{BASE_PATH}/training_historyV4.pkl\",allow_pickle=True)\n",
    "# history\n",
    "# import pickle\n",
    "\n",
    "# with open('/home/naseem_fordham/Spock-paper/Random_w/Model/training_historyV4.pkl', 'rb') as f:\n",
    "#     loaded_data = np.load(f,allow_pickle=True)\n"
   ]
  },
  {
   "cell_type": "code",
   "execution_count": null,
   "metadata": {
    "id": "o3kEUFa9eRfk",
    "jupyter": {
     "source_hidden": true
    },
    "tags": []
   },
   "outputs": [],
   "source": [
    "# # prepare test data for evaluation:\n",
    "# test_gen   = dataset(test_df[\"tweet\"].values,test_df[\"class\"].values,max_length = MAX_LENGTH, tokenizer = tokenizer, projection_dim=PROJECTION_DIM, val = True)\n",
    "# test_ds = tf.data.Dataset.from_generator(test_gen,\n",
    "#                                             output_signature = \n",
    "#                                            ({\"input_ids\" : tf.TensorSpec(shape = (MAX_LENGTH,), dtype = tf.int32 ),\"attention_masks\":tf.TensorSpec(shape = (MAX_LENGTH,), dtype = tf.int32),\"space\":tf.TensorSpec(shape = (PROJECTION_DIM,), dtype = tf.int32)},\n",
    "#                                             tf.TensorSpec(shape = (), dtype = (tf.float32)))).batch(BATCH_SIZE)"
   ]
  },
  {
   "cell_type": "code",
   "execution_count": null,
   "metadata": {
    "id": "3VcYiveLe-Ki"
   },
   "outputs": [],
   "source": [
    "# convert sigmoid outputs to labels\n",
    "def predictionLabels(i):\n",
    "     return np.argmax(i, axis=1)\n",
    "\n",
    "predictions = model.predict(val_ds)\n",
    "predictedLabels = predictionLabels(predictions)"
   ]
  },
  {
   "cell_type": "code",
   "execution_count": null,
   "metadata": {
    "tags": []
   },
   "outputs": [],
   "source": [
    "np.argmax(predictions, axis=1)\n",
    "val_df['class'].value_counts()"
   ]
  },
  {
   "cell_type": "code",
   "execution_count": null,
   "metadata": {
    "id": "s-Cv6nLJsSsL",
    "tags": []
   },
   "outputs": [],
   "source": [
    "from sklearn.metrics import confusion_matrix, ConfusionMatrixDisplay, classification_report\n",
    "from sklearn.metrics import confusion_matrix, ConfusionMatrixDisplay\n",
    "\n",
    "predictedLabels = predictionLabels(predictions)\n",
    "\n",
    "confusion_matrix(val_df['class'].values, predictedLabels)\n",
    "ConfusionMatrixDisplay.from_predictions(val_df['class'].values, predictedLabels)"
   ]
  },
  {
   "cell_type": "code",
   "execution_count": null,
   "metadata": {
    "tags": []
   },
   "outputs": [],
   "source": [
    "predictions = spock_model2.predict(val_ds)\n",
    "predictedLabels = predictionLabels(predictions)\n",
    "\n",
    "\n"
   ]
  },
  {
   "cell_type": "code",
   "execution_count": null,
   "metadata": {
    "tags": []
   },
   "outputs": [],
   "source": [
    "sum(predictedLabels==0)"
   ]
  },
  {
   "cell_type": "code",
   "execution_count": null,
   "metadata": {
    "tags": []
   },
   "outputs": [],
   "source": [
    "import numpy as np\n",
    "predictions = model.predict(val_ds)\n",
    "predictedLabels = predictionLabels(predictions)\n",
    "# Calculate the confusion matrix\n",
    "cm = confusion_matrix(val_df['class'].values, predictedLabels)\n",
    "\n",
    "# Calculate the confusion matrix as percentages\n",
    "cm_percentage = cm.astype('float') / cm.sum(axis=1)[:, np.newaxis]\n",
    "\n",
    "# Create a ConfusionMatrixDisplay for the percentage confusion matrix\n",
    "disp = ConfusionMatrixDisplay(confusion_matrix=cm_percentage, display_labels=['Hate','Offensive','Niether'])  # You should define class_labels\n",
    "\n",
    "# Plot the confusion matrix as percentages\n",
    "disp.plot(cmap=plt.cm.Blues, values_format=\".2f\")\n",
    "plt.show()\n"
   ]
  },
  {
   "cell_type": "code",
   "execution_count": null,
   "metadata": {
    "colab": {
     "base_uri": "https://localhost:8080/",
     "height": 424
    },
    "id": "nIV_XQ00gUYz",
    "outputId": "a28ee2c7-3d22-4fa8-a4fc-16b73454c70b"
   },
   "outputs": [],
   "source": [
    "import seaborn as sns\n",
    "# print(classification_report(y_test, predictedLabels))\n",
    "clf_report = classification_report(val_df['class'],\n",
    "                                   predictedLabels,\n",
    "                                   \n",
    "                                   target_names=['Hate','Offensive','Niether'],\n",
    "                                   output_dict=True)\n",
    "\n",
    "\n",
    "sns.heatmap(pd.DataFrame(clf_report).iloc[:-1, :].T, annot=True)\n"
   ]
  },
  {
   "cell_type": "code",
   "execution_count": null,
   "metadata": {
    "colab": {
     "base_uri": "https://localhost:8080/",
     "height": 424
    },
    "id": "-1xVwjAJgVrt",
    "outputId": "2b7f24a8-291e-4f8b-a5a3-cf9d89f07aaa",
    "tags": []
   },
   "outputs": [],
   "source": [
    "from matplotlib import pyplot as plt\n",
    "from matplotlib.pyplot import figure\n",
    "\n",
    "plt.figure(figsize=(12,8))\n",
    "plt.plot(history['accuracy'])\n",
    "plt.plot(history['val_accuracy'])\n",
    "plt.title('model accuracy',fontdict = {'fontsize' : 12})\n",
    "plt.ylim(0,1,0.1)\n",
    "\n",
    "plt.ylabel('accuracy',fontdict = {'fontsize' : 12})\n",
    "plt.xlabel('epoch',{'fontsize' : 12})\n",
    "# plt.ylim(0, ,0.05)\n",
    "plt.legend(['train', 'val'], loc='upper left',fontsize=12)\n",
    "plt.title('Training vs Validation accuracy')\n",
    "# display(plt.show())\n",
    "# plt.show()\n",
    "\n",
    "# plt.savefig(f\"/home/naseem_fordham/Hate_Xplain//acc.png\",dpi=300)\n",
    "# plt.savefig(f\"/home/naseem_fordham/Hate_Xplain/Plots/plots{PROJECTION_DIM}/accu_{PROJECTION_DIM}.png\",dpi=300)\n",
    "\n",
    "#skip: plt.savefig(\"/gdrive/Shareddrives/Thesis/Results_for_thesis/spock_xhate_acc.png\",dpi=300)\n",
    "\n",
    "plt.figure(figsize=(12,8))\n",
    "# plt.yticks(np.arange(0,1,step=.1))\n",
    "\n",
    "plt.plot(history['loss'])\n",
    "plt.plot(history['val_loss'])\n",
    "plt.ylim(0,3,0.1)\n",
    "\n",
    "# plt.title('Training loss vs Validation Loss',fontdict = {'fontsize' : 12})\n",
    "plt.ylabel('loss',fontdict = {'fontsize' : 12})\n",
    "plt.xlabel('epoch',fontdict = {'fontsize' : 12})\n",
    "plt.legend(['train', 'val'], loc='upper left',fontsize=12)\n",
    "plt.title('Training vs Validation loss')"
   ]
  },
  {
   "cell_type": "markdown",
   "metadata": {},
   "source": [
    "# Lime Explainibity\n",
    "In this part we are using LIME method to understnd how our model is predicting each word in the senetcen and labeled it as per classification## In this part we are using LIME method to understnd how our model is predicting each word in the senetcen and labeled it as per classification"
   ]
  },
  {
   "cell_type": "code",
   "execution_count": null,
   "metadata": {
    "tags": []
   },
   "outputs": [],
   "source": [
    "# for ele in train_ds.take(1):\n",
    "#   temp = ele\n",
    "# temp_iids = temp[0][\"input_ids\"]\n",
    "# # temp_mask = temp[0][\"attention_masks\"]\n",
    "# temp_iids"
   ]
  },
  {
   "cell_type": "code",
   "execution_count": null,
   "metadata": {
    "tags": []
   },
   "outputs": [],
   "source": [
    "# laoding data set and performning cleaning to ready for feed funtion,\n",
    "# here we have assigned a tem class to our data set\n",
    "df_test=pd.read_csv('/home/naseem_fordham/Spock-paper/test.txt',sep='/n', header=None,engine='python')\n",
    "df_test = df_test.rename(columns={0: 'tweet'})\n",
    "df_test\n",
    "\n",
    "df_test[\"tweet\"] = df_test[\"tweet\"].apply(lambda x : text_preprocessing(x))\n",
    "df_test['class']=1\n",
    "df_test\n"
   ]
  },
  {
   "cell_type": "code",
   "execution_count": null,
   "metadata": {
    "tags": []
   },
   "outputs": [],
   "source": [
    "# create generators for train and validation\n",
    "BATCH_SIZE = 32\n",
    "# make sure batch size complies with total data set\n",
    "lime_gen = dataset(df_test[\"tweet\"].values,df_test[\"class\"].values,max_length = MAX_LENGTH, tokenizer = tokenizer,projection_dim=PROJECTION_DIM)\n",
    "\n",
    "# create tensorflow dataloaders from generators\n",
    "lime_ds = tf.data.Dataset.from_generator(lime_gen,\n",
    "                                            output_signature =\n",
    "                                           ( {\"input_ids\" : tf.TensorSpec(shape = (MAX_LENGTH,), dtype = tf.int32 ),\"attention_masks\":tf.TensorSpec(shape = (MAX_LENGTH,), dtype = tf.int32),\"space\":tf.TensorSpec(shape = (PROJECTION_DIM,), dtype = tf.int32)},\n",
    "                                            tf.TensorSpec(shape = (), dtype = (tf.float32)))).batch(BATCH_SIZE)"
   ]
  },
  {
   "cell_type": "code",
   "execution_count": null,
   "metadata": {
    "tags": []
   },
   "outputs": [],
   "source": [
    "# Predict function which will be use later for each text in sentence\n",
    "def predict_fun(x):\n",
    "    return model.predict(lime_ds)"
   ]
  },
  {
   "cell_type": "code",
   "execution_count": null,
   "metadata": {
    "tags": []
   },
   "outputs": [],
   "source": [
    "model.predict(lime_ds)"
   ]
  },
  {
   "cell_type": "code",
   "execution_count": null,
   "metadata": {
    "tags": []
   },
   "outputs": [],
   "source": [
    "# for ele in lime_ds.take(1):\n",
    "#     t=ele\n"
   ]
  },
  {
   "cell_type": "code",
   "execution_count": null,
   "metadata": {
    "tags": []
   },
   "outputs": [],
   "source": [
    "# from lime.lime_text import LimeTextExplainer\n",
    "\n",
    "# x=df_test['tweet'][0]\n",
    "# print(len(x))\n",
    "\n",
    "\n",
    "# explainer = LimeTextExplainer(class_names=['non_hate','hate'])\n",
    "# exp=explainer.explain_instance(x, predict_fun, num_features=90, labels=(1,), num_samples=9, distance_metric='cosine')\n",
    "# exp.show_in_notebook(text=True)"
   ]
  },
  {
   "cell_type": "code",
   "execution_count": null,
   "metadata": {
    "tags": []
   },
   "outputs": [],
   "source": [
    "len(df_test['tweet'].iloc[i].split())"
   ]
  },
  {
   "cell_type": "code",
   "execution_count": null,
   "metadata": {
    "tags": []
   },
   "outputs": [],
   "source": [
    "# Implementing LIME on each sentence\n",
    "\"\"\"Interpretability: If you want highly interpretable explanations that focus on the most salient \n",
    "words or terms, you may choose a lower num_features value.\n",
    "\n",
    "Comprehensiveness: If you want a more comprehensive understanding of why the model made a particular\n",
    "prediction and are willing to explore a larger number of words or terms, you may choose a higher num_features value.\"\"\"\n",
    "\n",
    "\n",
    "''' 0 - hate speech 1 - offensive language 2 - neither'''\n",
    "from lime.lime_text import LimeTextExplainer\n",
    "for i in range(1,10):\n",
    "\n",
    "    x=df_test['tweet'].iloc[i]\n",
    "    # num=len(df_test['tweet'].iloc[i].split())\n",
    "    \n",
    "\n",
    "    explainer = LimeTextExplainer(class_names=['hate','offensive','normal'])\n",
    "    exp=explainer.explain_instance(x, predict_fun, num_features=10, labels=(0,1,2), num_samples=10, distance_metric='cosine')\n",
    "    exp.show_in_notebook(text=True)"
   ]
  },
  {
   "cell_type": "markdown",
   "metadata": {},
   "source": [
    "# Lime EXplaniation Alternative method"
   ]
  },
  {
   "cell_type": "code",
   "execution_count": null,
   "metadata": {
    "tags": []
   },
   "outputs": [],
   "source": [
    "# for ele in lime_ds.take(0):\n",
    "#   temp = ele\n",
    "# temp_iids = temp[0]\n",
    "# # # temp_mask = temp[0][\"attention_masks\"]\n",
    "# temp_iids"
   ]
  },
  {
   "cell_type": "code",
   "execution_count": null,
   "metadata": {
    "tags": []
   },
   "outputs": [],
   "source": [
    "# test_res= list()\n",
    "# for tweet in df_test['tweet']:\n",
    "#   tweet = text_preprocessing(tweet)\n",
    "#   test_res.append(tweet)\n",
    "#     # print(tweet)\n",
    "\n",
    "# df_test['tweet'].tolist()"
   ]
  },
  {
   "cell_type": "code",
   "execution_count": null,
   "metadata": {
    "id": "96kydpg1iWwm",
    "tags": []
   },
   "outputs": [],
   "source": [
    "# # Input_ids=Inputs_test.reshape((Inputs_test.shape[0],1,Inputs_test.shape[1]))\n",
    "# # bertModel = TFAutoModel.from_pretrained(\"bert-base-uncased\")\n",
    "# # tokenizer \n",
    "# '''In this part we are creating the bert inputs for our model and pass it to the model to predicts the class. \n",
    "# Later on we pass this predict model to LIME to underrstand which part of text is more relavent as per our model prediction'''\n",
    "\n",
    "# from transformers import BertTokenizer, BertModel\n",
    "\n",
    "# tokenizer = BertTokenizer.from_pretrained(\"bert-base-uncased\")\n",
    "# bmodel = BertModel.from_pretrained(\"bert-base-uncased\")\n",
    "\n",
    "# import torch\n",
    "# def predict(x):\n",
    "#     encoded = tokenizer(\n",
    "#     text=df_test['tweet'].tolist(),  # the sentence to be encoded\n",
    "#     add_special_tokens=True,  # Add [CLS] and [SEP]\n",
    "#     max_length = 45,  # maximum length of a sentence\n",
    "#     padding='max_length',  # Add [PAD]s\n",
    "#     return_attention_mask = True,  # Generate the attention mask\n",
    "#     return_tensors = 'pt',  # ask the function to return PyTorch tensors\n",
    "\n",
    "#   )\n",
    "#   # print(encoded)\n",
    "#     with torch.no_grad():\n",
    "\n",
    "#         outputs = bmodel(**encoded)\n",
    "\n",
    "#         # Evaluating the model will return a different number of objects based on \n",
    "#         # how it's  configured in the `from_pretrained` call earlier. In this case, \n",
    "#         # becase we set `output_hidden_states = True`, the third item will be the \n",
    "#         # hidden states from all layers. See the documentation for more details:\n",
    "#         # https://huggingface.co/transformers/model_doc/bert.html#bertmodel\n",
    "#         # hidden_states = outputs[2]\n",
    "#         # violent_hidden_states = violent_outputs[2]\n",
    "\n",
    "#         last_hidden_states = outputs.last_hidden_state\n",
    "\n",
    "#     # print(last_hidden_states)\n",
    "\n",
    "#     x_test=last_hidden_states.numpy()\n",
    "#     # print(x_test.shape)\n",
    "#     Inputs_test=encoded['input_ids']\n",
    "#     # print(Inputs_test.shape)\n",
    "#     Inputs_test=Inputs_test.reshape((Inputs_test.shape[0],1,Inputs_test.shape[1])).numpy()\n",
    "#     print(Inputs_test.shape)\n",
    "\n",
    "\n",
    "#     # print(x_test.shape,Inputs_test.shape)\n",
    "#     embedding_test=embedding_index[0].reshape(embedding_index[0].shape[0],1)\n",
    "#     # embedding_test=embedding_index[:30]\n",
    "#   # embedding_test=embedding_index[:30].reshape(30,embedding_index[:30].shape[1],1)\n",
    "#   # embedding_test=embedding_index[:10].reshape(10,embedding_index.shape[1])\n",
    "#   # return model.predict([x_test,Inputs_test,embedding_test])\n",
    "  \n",
    "#     # print(embedding_test.shape)\n",
    "#     print(x_test.shape,Inputs_test.shape,embedding_test.shape)\n",
    "#     return np.array([[float(1-x), float (x)] for x in model.predict(lime_ds)])\n",
    "#     # return last_hidden_states\n",
    "# # model.predict([x_train,Input_ids,embedding_index])"
   ]
  },
  {
   "cell_type": "code",
   "execution_count": null,
   "metadata": {
    "tags": []
   },
   "outputs": [],
   "source": [
    "# def return_embedding_index(count):\n",
    "  \n",
    "#   embedding_index=np.array([i for i in range(count)])\n",
    "#   # embeding_index=np.array([[0,1,2]])\n",
    "#   embeding_index=np.ravel(embedding_index)\n",
    "\n",
    "#   embedding_index=np.tile(embedding_index,(len(df_test),1,))\n",
    "#   # print(embedding_index.shape, type(embeding_index))\n",
    "#   return embedding_index\n",
    "\n",
    "# embedding_index = return_embedding_index(PROJECTION_DIM)\n",
    "# embedding_index.shape"
   ]
  },
  {
   "cell_type": "code",
   "execution_count": null,
   "metadata": {
    "tags": []
   },
   "outputs": [],
   "source": [
    "# from lime.lime_text import LimeTextExplainer\n",
    "\n",
    "# x=df_test['tweet'][0]\n",
    "# print(len(x))\n",
    "\n",
    "\n",
    "# explainer = LimeTextExplainer(class_names=['peace','offensive'])\n",
    "# exp=explainer.explain_instance(x, predict, num_features=60, labels=(1,), num_samples=9, distance_metric='cosine')\n",
    "# #num of sample must be same as length of the data set \n",
    "# exp.show_in_notebook(text=True)"
   ]
  },
  {
   "cell_type": "code",
   "execution_count": null,
   "metadata": {
    "tags": []
   },
   "outputs": [],
   "source": [
    "# from lime.lime_text import LimeTextExplainer\n",
    "# for i in range(10):\n",
    "\n",
    "#     x=df_test['tweet'].iloc[i]\n",
    "\n",
    "#     explainer = LimeTextExplainer(class_names=['peace','offensive'])\n",
    "#     exp=explainer.explain_instance(x, predict, num_features=30, labels=(1,), num_samples=9, distance_metric='cosine')\n",
    "#     #num of sample must be same as length of the data set \n",
    "#     exp.show_in_notebook(text=True)"
   ]
  },
  {
   "cell_type": "markdown",
   "metadata": {},
   "source": [
    "# Model Concept Space"
   ]
  },
  {
   "cell_type": "code",
   "execution_count": null,
   "metadata": {
    "tags": []
   },
   "outputs": [],
   "source": [
    "import tensorflow as tf\n",
    "from tensorflow.keras import layers"
   ]
  },
  {
   "cell_type": "code",
   "execution_count": null,
   "metadata": {
    "tags": []
   },
   "outputs": [],
   "source": [
    "import numpy as np\n",
    "from keras.models import load_model\n",
    "from sklearn.manifold import TSNE\n",
    "import matplotlib.pyplot as plt\n",
    "from matplotlib.pyplot import figure\n",
    "\n",
    "# model.load_weights(f\"{BASE_PATH}/Modeltest1.h5\")\n",
    "\n",
    "\n",
    "hate_layer = model.get_layer('hate_embedding')\n",
    "hate_embedding = hate_layer.get_weights()\n",
    "# positive_weights=positive_weights[0].T\n",
    "\n",
    "\n",
    "offensive_layer = model.get_layer('offensive_embedding')\n",
    "offensive_embedding = offensive_layer.get_weights()\n",
    "\n",
    "\n",
    "normal_layer = model.get_layer('normal_embedding')\n",
    "normal_embedding = normal_layer.get_weights()\n",
    "\n"
   ]
  },
  {
   "cell_type": "code",
   "execution_count": null,
   "metadata": {
    "tags": []
   },
   "outputs": [],
   "source": [
    "\n",
    "# positive_embedding = model.get_layer('positive_embedding')  # Replace with the name of your layer\n",
    "# # Get the weights of the specific layer\n",
    "# positive_embedding = specific_layer.get_weights()\n",
    "# positive_embedding"
   ]
  },
  {
   "cell_type": "code",
   "execution_count": null,
   "metadata": {
    "tags": []
   },
   "outputs": [],
   "source": [
    "# # model.load_weights(f\"{BASE_PATH}/Modeltest1.h5\")\n",
    "# negative_embedding = model.get_layer('negative_embedding')  # Replace with the name of your layer\n",
    "# # Get the weights of the specific layer\n",
    "# negative_embedding = specific_layer.get_weights()"
   ]
  },
  {
   "cell_type": "code",
   "execution_count": null,
   "metadata": {
    "tags": []
   },
   "outputs": [],
   "source": [
    "# import numpy as np\n",
    "# from sklearn.manifold import TSNE\n",
    "# import matplotlib.pyplot as plt\n",
    "\n",
    "# # Assuming you have two weight vectors of shape (10, 768)\n",
    "\n",
    "\n",
    "\n",
    "# # Combine the two weight vectors into one array\n",
    "# combined_weight_vectors = np.vstack([offensive_embedding[0], hate_embedding[0],normal_embedding[0]])\n",
    "# tsne = TSNE(n_components=2, perplexity=2, early_exaggeration=12.0, learning_rate=20.0, n_iter=1000)\n",
    "# # Compute t-SNE embeddings\n",
    "# # tsne = TSNE(n_components=2, random_state=42)\n",
    "# tsne_embeddings = tsne.fit_transform(combined_weight_vectors)\n",
    "\n",
    "# # Separate the t-SNE embeddings for the two weight vectors\n",
    "# tsne_embeddings1 = tsne_embeddings[:25]  # First weight vector\n",
    "# tsne_embeddings2 = tsne_embeddings[25:50]  # Second weight vector\n",
    "# tsne_embeddings3 = tsne_embeddings[50:] \n",
    "\n",
    "# # Create a scatter plot for the t-SNE embeddings\n",
    "# plt.figure(figsize=(8, 6))\n",
    "# plt.scatter(tsne_embeddings1[:, 0], tsne_embeddings1[:, 1], label='hate_embedding', s=5)\n",
    "# plt.scatter(tsne_embeddings2[:, 0], tsne_embeddings2[:, 1], label='offensive_embedding', s=5)\n",
    "# plt.scatter(tsne_embeddings3[:, 0], tsne_embeddings3[:, 1], label='offensive_embedding', s=5)\n",
    "# # plt.scatter(tsne_embeddings2[:, 0], tsne_embeddings2[:, 1], label='normal_embedding', s=5)\n",
    "\n",
    "# plt.xlabel('t-SNE Dimension 1')\n",
    "# plt.ylabel('t-SNE Dimension 2')\n",
    "# plt.legend()\n",
    "# plt.title('t-SNE Visualization of Weight Vectors')\n",
    "# plt.show()\n"
   ]
  },
  {
   "cell_type": "code",
   "execution_count": null,
   "metadata": {},
   "outputs": [],
   "source": [
    "import numpy as np\n",
    "from sklearn.manifold import TSNE\n",
    "import matplotlib.pyplot as plt\n",
    "from mpl_toolkits.mplot3d import Axes3D  # Import the 3D plotting module\n",
    "\n",
    "# Assuming you have three weight vectors of shape (10, 768)\n",
    "\n",
    "# Combine the three weight vectors into one array\n",
    "combined_weight_vectors = np.vstack([hate_embedding[0], offensive_embedding[0], normal_embedding[0]])\n",
    "tsne = TSNE(n_components=3, perplexity=50, early_exaggeration=12.0, learning_rate=50.0, n_iter=10000)\n",
    "\n",
    "# Compute t-SNE embeddings\n",
    "tsne_embeddings = tsne.fit_transform(combined_weight_vectors)\n",
    "\n",
    "# Separate the t-SNE embeddings for the three weight vectors\n",
    "tsne_embeddings1 = tsne_embeddings[:25]        # First weight vector (hate)\n",
    "tsne_embeddings2 = tsne_embeddings[25:50]      # Second weight vector (offensive)\n",
    "tsne_embeddings3 = tsne_embeddings[50:]        # Third weight vector (normal)\n",
    "\n",
    "# Create a 3D scatter plot for the t-SNE embeddings\n",
    "fig = plt.figure(figsize=(8, 12))\n",
    "ax = fig.add_subplot(111, projection='3d')  # Create a 3D axis\n",
    "\n",
    "ax.scatter(tsne_embeddings1[:, 0], tsne_embeddings1[:, 1], tsne_embeddings1[:, 2], label='hate_embedding', s=5)\n",
    "ax.scatter(tsne_embeddings2[:, 0], tsne_embeddings2[:, 1], tsne_embeddings2[:, 2], label='offensive_embedding', s=5)\n",
    "ax.scatter(tsne_embeddings3[:, 0], tsne_embeddings3[:, 1], tsne_embeddings3[:, 2], label='normal_embedding', s=5)\n",
    "\n",
    "ax.set_xlabel('t-SNE Dimension 1')\n",
    "ax.set_ylabel('t-SNE Dimension 2')\n",
    "ax.set_zlabel('t-SNE Dimension 3')\n",
    "plt.legend()\n",
    "plt.title('3D t-SNE Visualization of Weight Vectors')\n",
    "plt.show()\n"
   ]
  },
  {
   "cell_type": "markdown",
   "metadata": {},
   "source": [
    "# Loading HateXplain Data to Test the model"
   ]
  },
  {
   "cell_type": "code",
   "execution_count": null,
   "metadata": {
    "tags": []
   },
   "outputs": [],
   "source": [
    "## HateXplain Dataset\n",
    "\n",
    "'''0 - hate speech 1 - offensive language 2 - neither''' # as per offensive data\n",
    "HateXplain = pd.read_csv('/home/naseem_fordham/Spock-paper/data/Hate_Xplain.csv')\n",
    "HateXplain[\"label\"] = HateXplain[\"label\"].apply(lambda x: 0.0 if x == \"hatespeech\" else (1.0 if x == \"offensive\" else 2.0))\n",
    "\n",
    "HateXplain[\"text\"] = HateXplain[\"text\"].apply(lambda x : text_preprocessing(x))\n",
    "HateXplain = HateXplain.sample(frac = 1).reset_index(drop = True)\n",
    "HateXplain.rename(columns={\"text\":\"tweet\",\"label\":\"class\"},inplace=True)\n",
    "dataframe=HateXplain"
   ]
  },
  {
   "cell_type": "code",
   "execution_count": null,
   "metadata": {
    "tags": []
   },
   "outputs": [],
   "source": [
    "HateXplain_gen = dataset(dataframe[\"tweet\"].values,dataframe[\"class\"].values,max_length = MAX_LENGTH, tokenizer = tokenizer,projection_dim=PROJECTION_DIM)\n",
    "\n",
    "\n",
    "HateXplain_ds = tf.data.Dataset.from_generator(HateXplain_gen,\n",
    "                                            output_signature =\n",
    "                                           ( {\"input_ids\" : tf.TensorSpec(shape = (MAX_LENGTH,), dtype = tf.int32 ),\"attention_masks\":tf.TensorSpec(shape = (MAX_LENGTH,), dtype = tf.int32),\"space\":tf.TensorSpec(shape = (PROJECTION_DIM,), dtype = tf.int32)},\n",
    "                                            tf.TensorSpec(shape = (), dtype = (tf.float32)))).batch(BATCH_SIZE)"
   ]
  },
  {
   "cell_type": "code",
   "execution_count": null,
   "metadata": {
    "tags": []
   },
   "outputs": [],
   "source": [
    "predictions = model.predict(HateXplain_ds)\n",
    "predictedLabels = predictionLabels(predictions)\n",
    "\n",
    "\n",
    "# Calculate the confusion matrix\n",
    "cm = confusion_matrix(dataframe['class'].values, predictedLabels)\n",
    "\n",
    "# Calculate the confusion matrix as percentages\n",
    "cm_percentage = cm.astype('float') / cm.sum(axis=1)[:, np.newaxis]\n",
    "\n",
    "# Create a ConfusionMatrixDisplay for the percentage confusion matrix\n",
    "disp = ConfusionMatrixDisplay(confusion_matrix=cm_percentage, display_labels=['Hate','Offensive','Niether'])  # You should define class_labels\n",
    "\n",
    "# Plot the confusion matrix as percentages\n",
    "disp.plot(cmap=plt.cm.Blues, values_format=\".2f\")\n",
    "plt.show()"
   ]
  },
  {
   "cell_type": "code",
   "execution_count": null,
   "metadata": {
    "tags": []
   },
   "outputs": [],
   "source": [
    "import seaborn as sns\n",
    "# print(classification_report(y_test, predictedLabels))\n",
    "clf_report = classification_report(dataframe['class'],\n",
    "                                   predictedLabels,\n",
    "                                   \n",
    "                                   target_names=['Hate','Offensive','Niether'],\n",
    "                                   output_dict=True)\n",
    "\n",
    "\n",
    "sns.heatmap(pd.DataFrame(clf_report).iloc[:-1, :].T, annot=True)"
   ]
  },
  {
   "cell_type": "markdown",
   "metadata": {},
   "source": [
    "# Xhate 999\n",
    "We need to reconfigure the model layers in this case"
   ]
  },
  {
   "cell_type": "code",
   "execution_count": null,
   "metadata": {
    "tags": []
   },
   "outputs": [],
   "source": [
    "## Xhate999 Dataset\n",
    "\n",
    "'''0 - hate speech 1 - offensive language 2 - neither''' # as per offensive data\n",
    "Xhate999 = pd.read_csv('/home/naseem_fordham/Spock-paper/data/Xhate999_combine.csv')\n",
    "HateXplain.rename(columns={\"text\":\"tweet\"},inplace=True)\n",
    "\n",
    "#swaping the class as the Hate999 has Class 1 hate, Class 0 non-hate speech , so want\n",
    "# to make it according to HateOffensive\n",
    "HateXplain['class'] = HateXplain['class'].replace({'0': '1', '1': '0'})\n",
    "\n",
    "Xhate999[\"tweet\"] = Xhate999[\"tweet\"].apply(lambda x : text_preprocessing(x))\n",
    "dataframe=Xhate999\n",
    "dataframe['class'].unique()"
   ]
  },
  {
   "cell_type": "code",
   "execution_count": null,
   "metadata": {
    "tags": []
   },
   "outputs": [],
   "source": [
    "Xhate999_gen = dataset(dataframe[\"tweet\"].values,dataframe[\"class\"].values,max_length = MAX_LENGTH, tokenizer = tokenizer,projection_dim=PROJECTION_DIM)\n",
    "\n",
    "Xhate999_ds = tf.data.Dataset.from_generator(Xhate999_gen,\n",
    "                                            output_signature =\n",
    "                                           ( {\"input_ids\" : tf.TensorSpec(shape = (MAX_LENGTH,), dtype = tf.int32 ),\"attention_masks\":tf.TensorSpec(shape = (MAX_LENGTH,), dtype = tf.int32),\"space\":tf.TensorSpec(shape = (PROJECTION_DIM,), dtype = tf.int32)},\n",
    "                                            tf.TensorSpec(shape = (), dtype = (tf.float32)))).batch(BATCH_SIZE)"
   ]
  },
  {
   "cell_type": "code",
   "execution_count": null,
   "metadata": {
    "tags": []
   },
   "outputs": [],
   "source": [
    "predictions = model.predict(Xhate999_ds)\n",
    "predictedLabels = predictionLabels(predictions)\n",
    "\n",
    "\n"
   ]
  },
  {
   "cell_type": "code",
   "execution_count": null,
   "metadata": {
    "tags": []
   },
   "outputs": [],
   "source": [
    "# Calculate the confusion matrix\n",
    "cm = confusion_matrix(dataframe['class'].values, predictedLabels)\n",
    "\n",
    "# Calculate the confusion matrix as percentages\n",
    "cm_percentage = cm.astype('float') / cm.sum(axis=1)[:, np.newaxis]\n",
    "\n",
    "# Create a ConfusionMatrixDisplay for the percentage confusion matrix\n",
    "disp = ConfusionMatrixDisplay(confusion_matrix=cm_percentage, display_labels=['Hate','Niether','Niether'])  # You should define class_labels\n",
    "\n",
    "# Plot the confusion matrix as percentages\n",
    "disp.plot(cmap=plt.cm.Blues, values_format=\".2f\")\n",
    "plt.show()"
   ]
  },
  {
   "cell_type": "code",
   "execution_count": null,
   "metadata": {},
   "outputs": [],
   "source": [
    "## HateXplain Dataset\n",
    "HateXplain = pd.read_csv('/home/naseem_fordham/Spock-paper/data/Hate_Xplain.csv')\n",
    "HateXplain[\"label\"] = HateXplain[\"label\"].apply(lambda x: 1.0 if x == \"hatespeech\" else (2.0 if x == \"offensive\" else 0.0))\n",
    "\n",
    "HateXplain[\"text\"] = HateXplain[\"text\"].apply(lambda x : text_preprocessing(x))\n",
    "HateXplain = HateXplain.sample(frac = 1).reset_index(drop = True)\n",
    "HateXplain.rename(columns={\"text\":\"tweet\",\"label\":\"class\"},inplace=True)\n",
    "dataframe=HateXplain"
   ]
  },
  {
   "cell_type": "code",
   "execution_count": null,
   "metadata": {
    "tags": []
   },
   "outputs": [],
   "source": [
    "dataframe['class'].value_counts()"
   ]
  },
  {
   "cell_type": "code",
   "execution_count": null,
   "metadata": {},
   "outputs": [],
   "source": []
  }
 ],
 "metadata": {
  "accelerator": "TPU",
  "colab": {
   "authorship_tag": "ABX9TyMciCgoRuYPP4D87bGoAjIQ",
   "include_colab_link": true,
   "provenance": [],
   "toc_visible": true
  },
  "kernelspec": {
   "display_name": "Python 3",
   "language": "python",
   "name": "python3"
  },
  "language_info": {
   "codemirror_mode": {
    "name": "ipython",
    "version": 3
   },
   "file_extension": ".py",
   "mimetype": "text/x-python",
   "name": "python",
   "nbconvert_exporter": "python",
   "pygments_lexer": "ipython3",
   "version": "3.8.10"
  },
  "widgets": {
   "application/vnd.jupyter.widget-state+json": {
    "06285d669e92494192637cb3ee5a40f4": {
     "model_module": "@jupyter-widgets/base",
     "model_module_version": "1.2.0",
     "model_name": "LayoutModel",
     "state": {
      "_model_module": "@jupyter-widgets/base",
      "_model_module_version": "1.2.0",
      "_model_name": "LayoutModel",
      "_view_count": null,
      "_view_module": "@jupyter-widgets/base",
      "_view_module_version": "1.2.0",
      "_view_name": "LayoutView",
      "align_content": null,
      "align_items": null,
      "align_self": null,
      "border": null,
      "bottom": null,
      "display": null,
      "flex": null,
      "flex_flow": null,
      "grid_area": null,
      "grid_auto_columns": null,
      "grid_auto_flow": null,
      "grid_auto_rows": null,
      "grid_column": null,
      "grid_gap": null,
      "grid_row": null,
      "grid_template_areas": null,
      "grid_template_columns": null,
      "grid_template_rows": null,
      "height": null,
      "justify_content": null,
      "justify_items": null,
      "left": null,
      "margin": null,
      "max_height": null,
      "max_width": null,
      "min_height": null,
      "min_width": null,
      "object_fit": null,
      "object_position": null,
      "order": null,
      "overflow": null,
      "overflow_x": null,
      "overflow_y": null,
      "padding": null,
      "right": null,
      "top": null,
      "visibility": null,
      "width": null
     }
    },
    "0f14c359d92748268810099e6cdd1fc3": {
     "model_module": "@jupyter-widgets/controls",
     "model_module_version": "1.5.0",
     "model_name": "HTMLModel",
     "state": {
      "_dom_classes": [],
      "_model_module": "@jupyter-widgets/controls",
      "_model_module_version": "1.5.0",
      "_model_name": "HTMLModel",
      "_view_count": null,
      "_view_module": "@jupyter-widgets/controls",
      "_view_module_version": "1.5.0",
      "_view_name": "HTMLView",
      "description": "",
      "description_tooltip": null,
      "layout": "IPY_MODEL_06285d669e92494192637cb3ee5a40f4",
      "placeholder": "​",
      "style": "IPY_MODEL_209ee3e0949b446b8c58c57989065c5a",
      "value": " 232k/232k [00:00&lt;00:00, 2.84MB/s]"
     }
    },
    "123641d1426541fba838576dff7f6082": {
     "model_module": "@jupyter-widgets/controls",
     "model_module_version": "1.5.0",
     "model_name": "DescriptionStyleModel",
     "state": {
      "_model_module": "@jupyter-widgets/controls",
      "_model_module_version": "1.5.0",
      "_model_name": "DescriptionStyleModel",
      "_view_count": null,
      "_view_module": "@jupyter-widgets/base",
      "_view_module_version": "1.2.0",
      "_view_name": "StyleView",
      "description_width": ""
     }
    },
    "17ae300ebf634778862bc211cb432eef": {
     "model_module": "@jupyter-widgets/controls",
     "model_module_version": "1.5.0",
     "model_name": "HTMLModel",
     "state": {
      "_dom_classes": [],
      "_model_module": "@jupyter-widgets/controls",
      "_model_module_version": "1.5.0",
      "_model_name": "HTMLModel",
      "_view_count": null,
      "_view_module": "@jupyter-widgets/controls",
      "_view_module_version": "1.5.0",
      "_view_name": "HTMLView",
      "description": "",
      "description_tooltip": null,
      "layout": "IPY_MODEL_a51f1ae4e3bd4563be3eb7c04dec7a60",
      "placeholder": "​",
      "style": "IPY_MODEL_c7586ac9b41c4e75b02a6c076a458686",
      "value": "Downloading (…)/main/tokenizer.json: 100%"
     }
    },
    "18e134c7af5d45baa952ccf06f96f3d8": {
     "model_module": "@jupyter-widgets/controls",
     "model_module_version": "1.5.0",
     "model_name": "HTMLModel",
     "state": {
      "_dom_classes": [],
      "_model_module": "@jupyter-widgets/controls",
      "_model_module_version": "1.5.0",
      "_model_name": "HTMLModel",
      "_view_count": null,
      "_view_module": "@jupyter-widgets/controls",
      "_view_module_version": "1.5.0",
      "_view_name": "HTMLView",
      "description": "",
      "description_tooltip": null,
      "layout": "IPY_MODEL_4f1d5a79d7ec4e42add7775fa925b187",
      "placeholder": "​",
      "style": "IPY_MODEL_e89d668a4fb541ec8d75d171bf899869",
      "value": "Downloading (…)solve/main/vocab.txt: 100%"
     }
    },
    "1cf66f2a8c5f49ce98d59dae5186298d": {
     "model_module": "@jupyter-widgets/controls",
     "model_module_version": "1.5.0",
     "model_name": "FloatProgressModel",
     "state": {
      "_dom_classes": [],
      "_model_module": "@jupyter-widgets/controls",
      "_model_module_version": "1.5.0",
      "_model_name": "FloatProgressModel",
      "_view_count": null,
      "_view_module": "@jupyter-widgets/controls",
      "_view_module_version": "1.5.0",
      "_view_name": "ProgressView",
      "bar_style": "success",
      "description": "",
      "description_tooltip": null,
      "layout": "IPY_MODEL_dfd44792f624499b87bd768836016e88",
      "max": 570,
      "min": 0,
      "orientation": "horizontal",
      "style": "IPY_MODEL_ae841edad05b4ef9b4308308d6683fa3",
      "value": 570
     }
    },
    "1ec35f8bfadb40968f777ab7bbb55184": {
     "model_module": "@jupyter-widgets/controls",
     "model_module_version": "1.5.0",
     "model_name": "HTMLModel",
     "state": {
      "_dom_classes": [],
      "_model_module": "@jupyter-widgets/controls",
      "_model_module_version": "1.5.0",
      "_model_name": "HTMLModel",
      "_view_count": null,
      "_view_module": "@jupyter-widgets/controls",
      "_view_module_version": "1.5.0",
      "_view_name": "HTMLView",
      "description": "",
      "description_tooltip": null,
      "layout": "IPY_MODEL_9b0c918326174bc4b80585a52ac33e32",
      "placeholder": "​",
      "style": "IPY_MODEL_e38ea829111b4065bad8ad4a4927bc39",
      "value": " 466k/466k [00:00&lt;00:00, 8.67MB/s]"
     }
    },
    "2024092105904b418c984aae9f4118bf": {
     "model_module": "@jupyter-widgets/controls",
     "model_module_version": "1.5.0",
     "model_name": "HTMLModel",
     "state": {
      "_dom_classes": [],
      "_model_module": "@jupyter-widgets/controls",
      "_model_module_version": "1.5.0",
      "_model_name": "HTMLModel",
      "_view_count": null,
      "_view_module": "@jupyter-widgets/controls",
      "_view_module_version": "1.5.0",
      "_view_name": "HTMLView",
      "description": "",
      "description_tooltip": null,
      "layout": "IPY_MODEL_4f0a4e1b4929448a8b0a25b202271a40",
      "placeholder": "​",
      "style": "IPY_MODEL_ac93c61a19c0474994803853194d2aa8",
      "value": " 28.0/28.0 [00:00&lt;00:00, 584B/s]"
     }
    },
    "209ee3e0949b446b8c58c57989065c5a": {
     "model_module": "@jupyter-widgets/controls",
     "model_module_version": "1.5.0",
     "model_name": "DescriptionStyleModel",
     "state": {
      "_model_module": "@jupyter-widgets/controls",
      "_model_module_version": "1.5.0",
      "_model_name": "DescriptionStyleModel",
      "_view_count": null,
      "_view_module": "@jupyter-widgets/base",
      "_view_module_version": "1.2.0",
      "_view_name": "StyleView",
      "description_width": ""
     }
    },
    "21bf2e03eac8419fa693628ab2cef02d": {
     "model_module": "@jupyter-widgets/controls",
     "model_module_version": "1.5.0",
     "model_name": "FloatProgressModel",
     "state": {
      "_dom_classes": [],
      "_model_module": "@jupyter-widgets/controls",
      "_model_module_version": "1.5.0",
      "_model_name": "FloatProgressModel",
      "_view_count": null,
      "_view_module": "@jupyter-widgets/controls",
      "_view_module_version": "1.5.0",
      "_view_name": "ProgressView",
      "bar_style": "success",
      "description": "",
      "description_tooltip": null,
      "layout": "IPY_MODEL_430a9d1768614e0596960d2a3d15d69e",
      "max": 231508,
      "min": 0,
      "orientation": "horizontal",
      "style": "IPY_MODEL_909ae03e117345f7a4b53f3045e090b7",
      "value": 231508
     }
    },
    "274875a4aa6047c9903ae3065a5d85c2": {
     "model_module": "@jupyter-widgets/base",
     "model_module_version": "1.2.0",
     "model_name": "LayoutModel",
     "state": {
      "_model_module": "@jupyter-widgets/base",
      "_model_module_version": "1.2.0",
      "_model_name": "LayoutModel",
      "_view_count": null,
      "_view_module": "@jupyter-widgets/base",
      "_view_module_version": "1.2.0",
      "_view_name": "LayoutView",
      "align_content": null,
      "align_items": null,
      "align_self": null,
      "border": null,
      "bottom": null,
      "display": null,
      "flex": null,
      "flex_flow": null,
      "grid_area": null,
      "grid_auto_columns": null,
      "grid_auto_flow": null,
      "grid_auto_rows": null,
      "grid_column": null,
      "grid_gap": null,
      "grid_row": null,
      "grid_template_areas": null,
      "grid_template_columns": null,
      "grid_template_rows": null,
      "height": null,
      "justify_content": null,
      "justify_items": null,
      "left": null,
      "margin": null,
      "max_height": null,
      "max_width": null,
      "min_height": null,
      "min_width": null,
      "object_fit": null,
      "object_position": null,
      "order": null,
      "overflow": null,
      "overflow_x": null,
      "overflow_y": null,
      "padding": null,
      "right": null,
      "top": null,
      "visibility": null,
      "width": null
     }
    },
    "31914a14cfa243388f43a02da4db24b6": {
     "model_module": "@jupyter-widgets/controls",
     "model_module_version": "1.5.0",
     "model_name": "ProgressStyleModel",
     "state": {
      "_model_module": "@jupyter-widgets/controls",
      "_model_module_version": "1.5.0",
      "_model_name": "ProgressStyleModel",
      "_view_count": null,
      "_view_module": "@jupyter-widgets/base",
      "_view_module_version": "1.2.0",
      "_view_name": "StyleView",
      "bar_color": null,
      "description_width": ""
     }
    },
    "3258d106659040dfb7ffea47c017ed38": {
     "model_module": "@jupyter-widgets/base",
     "model_module_version": "1.2.0",
     "model_name": "LayoutModel",
     "state": {
      "_model_module": "@jupyter-widgets/base",
      "_model_module_version": "1.2.0",
      "_model_name": "LayoutModel",
      "_view_count": null,
      "_view_module": "@jupyter-widgets/base",
      "_view_module_version": "1.2.0",
      "_view_name": "LayoutView",
      "align_content": null,
      "align_items": null,
      "align_self": null,
      "border": null,
      "bottom": null,
      "display": null,
      "flex": null,
      "flex_flow": null,
      "grid_area": null,
      "grid_auto_columns": null,
      "grid_auto_flow": null,
      "grid_auto_rows": null,
      "grid_column": null,
      "grid_gap": null,
      "grid_row": null,
      "grid_template_areas": null,
      "grid_template_columns": null,
      "grid_template_rows": null,
      "height": null,
      "justify_content": null,
      "justify_items": null,
      "left": null,
      "margin": null,
      "max_height": null,
      "max_width": null,
      "min_height": null,
      "min_width": null,
      "object_fit": null,
      "object_position": null,
      "order": null,
      "overflow": null,
      "overflow_x": null,
      "overflow_y": null,
      "padding": null,
      "right": null,
      "top": null,
      "visibility": null,
      "width": null
     }
    },
    "34bbd1edf06c4a9194bd27eaeeee32b2": {
     "model_module": "@jupyter-widgets/base",
     "model_module_version": "1.2.0",
     "model_name": "LayoutModel",
     "state": {
      "_model_module": "@jupyter-widgets/base",
      "_model_module_version": "1.2.0",
      "_model_name": "LayoutModel",
      "_view_count": null,
      "_view_module": "@jupyter-widgets/base",
      "_view_module_version": "1.2.0",
      "_view_name": "LayoutView",
      "align_content": null,
      "align_items": null,
      "align_self": null,
      "border": null,
      "bottom": null,
      "display": null,
      "flex": null,
      "flex_flow": null,
      "grid_area": null,
      "grid_auto_columns": null,
      "grid_auto_flow": null,
      "grid_auto_rows": null,
      "grid_column": null,
      "grid_gap": null,
      "grid_row": null,
      "grid_template_areas": null,
      "grid_template_columns": null,
      "grid_template_rows": null,
      "height": null,
      "justify_content": null,
      "justify_items": null,
      "left": null,
      "margin": null,
      "max_height": null,
      "max_width": null,
      "min_height": null,
      "min_width": null,
      "object_fit": null,
      "object_position": null,
      "order": null,
      "overflow": null,
      "overflow_x": null,
      "overflow_y": null,
      "padding": null,
      "right": null,
      "top": null,
      "visibility": null,
      "width": null
     }
    },
    "34e574772e8b4f81bc7e02e8ebaeb258": {
     "model_module": "@jupyter-widgets/controls",
     "model_module_version": "1.5.0",
     "model_name": "HTMLModel",
     "state": {
      "_dom_classes": [],
      "_model_module": "@jupyter-widgets/controls",
      "_model_module_version": "1.5.0",
      "_model_name": "HTMLModel",
      "_view_count": null,
      "_view_module": "@jupyter-widgets/controls",
      "_view_module_version": "1.5.0",
      "_view_name": "HTMLView",
      "description": "",
      "description_tooltip": null,
      "layout": "IPY_MODEL_3258d106659040dfb7ffea47c017ed38",
      "placeholder": "​",
      "style": "IPY_MODEL_f9a2caba063b4a4f98ad258044d012fb",
      "value": "Downloading (…)lve/main/config.json: 100%"
     }
    },
    "3c294ab0d9a648f39ea3f3fb7dd08c3c": {
     "model_module": "@jupyter-widgets/base",
     "model_module_version": "1.2.0",
     "model_name": "LayoutModel",
     "state": {
      "_model_module": "@jupyter-widgets/base",
      "_model_module_version": "1.2.0",
      "_model_name": "LayoutModel",
      "_view_count": null,
      "_view_module": "@jupyter-widgets/base",
      "_view_module_version": "1.2.0",
      "_view_name": "LayoutView",
      "align_content": null,
      "align_items": null,
      "align_self": null,
      "border": null,
      "bottom": null,
      "display": null,
      "flex": null,
      "flex_flow": null,
      "grid_area": null,
      "grid_auto_columns": null,
      "grid_auto_flow": null,
      "grid_auto_rows": null,
      "grid_column": null,
      "grid_gap": null,
      "grid_row": null,
      "grid_template_areas": null,
      "grid_template_columns": null,
      "grid_template_rows": null,
      "height": null,
      "justify_content": null,
      "justify_items": null,
      "left": null,
      "margin": null,
      "max_height": null,
      "max_width": null,
      "min_height": null,
      "min_width": null,
      "object_fit": null,
      "object_position": null,
      "order": null,
      "overflow": null,
      "overflow_x": null,
      "overflow_y": null,
      "padding": null,
      "right": null,
      "top": null,
      "visibility": null,
      "width": null
     }
    },
    "430a9d1768614e0596960d2a3d15d69e": {
     "model_module": "@jupyter-widgets/base",
     "model_module_version": "1.2.0",
     "model_name": "LayoutModel",
     "state": {
      "_model_module": "@jupyter-widgets/base",
      "_model_module_version": "1.2.0",
      "_model_name": "LayoutModel",
      "_view_count": null,
      "_view_module": "@jupyter-widgets/base",
      "_view_module_version": "1.2.0",
      "_view_name": "LayoutView",
      "align_content": null,
      "align_items": null,
      "align_self": null,
      "border": null,
      "bottom": null,
      "display": null,
      "flex": null,
      "flex_flow": null,
      "grid_area": null,
      "grid_auto_columns": null,
      "grid_auto_flow": null,
      "grid_auto_rows": null,
      "grid_column": null,
      "grid_gap": null,
      "grid_row": null,
      "grid_template_areas": null,
      "grid_template_columns": null,
      "grid_template_rows": null,
      "height": null,
      "justify_content": null,
      "justify_items": null,
      "left": null,
      "margin": null,
      "max_height": null,
      "max_width": null,
      "min_height": null,
      "min_width": null,
      "object_fit": null,
      "object_position": null,
      "order": null,
      "overflow": null,
      "overflow_x": null,
      "overflow_y": null,
      "padding": null,
      "right": null,
      "top": null,
      "visibility": null,
      "width": null
     }
    },
    "4914d10c0f354e178de66dc11449e26a": {
     "model_module": "@jupyter-widgets/controls",
     "model_module_version": "1.5.0",
     "model_name": "HTMLModel",
     "state": {
      "_dom_classes": [],
      "_model_module": "@jupyter-widgets/controls",
      "_model_module_version": "1.5.0",
      "_model_name": "HTMLModel",
      "_view_count": null,
      "_view_module": "@jupyter-widgets/controls",
      "_view_module_version": "1.5.0",
      "_view_name": "HTMLView",
      "description": "",
      "description_tooltip": null,
      "layout": "IPY_MODEL_f7998e50af804d66b6af0f26b5588255",
      "placeholder": "​",
      "style": "IPY_MODEL_4fa52eecbe8a4ba38ef969fd1cf48cfd",
      "value": "Downloading model.safetensors: 100%"
     }
    },
    "4cc5655f9bdb42bca5d80e2849e8cd2b": {
     "model_module": "@jupyter-widgets/base",
     "model_module_version": "1.2.0",
     "model_name": "LayoutModel",
     "state": {
      "_model_module": "@jupyter-widgets/base",
      "_model_module_version": "1.2.0",
      "_model_name": "LayoutModel",
      "_view_count": null,
      "_view_module": "@jupyter-widgets/base",
      "_view_module_version": "1.2.0",
      "_view_name": "LayoutView",
      "align_content": null,
      "align_items": null,
      "align_self": null,
      "border": null,
      "bottom": null,
      "display": null,
      "flex": null,
      "flex_flow": null,
      "grid_area": null,
      "grid_auto_columns": null,
      "grid_auto_flow": null,
      "grid_auto_rows": null,
      "grid_column": null,
      "grid_gap": null,
      "grid_row": null,
      "grid_template_areas": null,
      "grid_template_columns": null,
      "grid_template_rows": null,
      "height": null,
      "justify_content": null,
      "justify_items": null,
      "left": null,
      "margin": null,
      "max_height": null,
      "max_width": null,
      "min_height": null,
      "min_width": null,
      "object_fit": null,
      "object_position": null,
      "order": null,
      "overflow": null,
      "overflow_x": null,
      "overflow_y": null,
      "padding": null,
      "right": null,
      "top": null,
      "visibility": null,
      "width": null
     }
    },
    "4f0a4e1b4929448a8b0a25b202271a40": {
     "model_module": "@jupyter-widgets/base",
     "model_module_version": "1.2.0",
     "model_name": "LayoutModel",
     "state": {
      "_model_module": "@jupyter-widgets/base",
      "_model_module_version": "1.2.0",
      "_model_name": "LayoutModel",
      "_view_count": null,
      "_view_module": "@jupyter-widgets/base",
      "_view_module_version": "1.2.0",
      "_view_name": "LayoutView",
      "align_content": null,
      "align_items": null,
      "align_self": null,
      "border": null,
      "bottom": null,
      "display": null,
      "flex": null,
      "flex_flow": null,
      "grid_area": null,
      "grid_auto_columns": null,
      "grid_auto_flow": null,
      "grid_auto_rows": null,
      "grid_column": null,
      "grid_gap": null,
      "grid_row": null,
      "grid_template_areas": null,
      "grid_template_columns": null,
      "grid_template_rows": null,
      "height": null,
      "justify_content": null,
      "justify_items": null,
      "left": null,
      "margin": null,
      "max_height": null,
      "max_width": null,
      "min_height": null,
      "min_width": null,
      "object_fit": null,
      "object_position": null,
      "order": null,
      "overflow": null,
      "overflow_x": null,
      "overflow_y": null,
      "padding": null,
      "right": null,
      "top": null,
      "visibility": null,
      "width": null
     }
    },
    "4f1d5a79d7ec4e42add7775fa925b187": {
     "model_module": "@jupyter-widgets/base",
     "model_module_version": "1.2.0",
     "model_name": "LayoutModel",
     "state": {
      "_model_module": "@jupyter-widgets/base",
      "_model_module_version": "1.2.0",
      "_model_name": "LayoutModel",
      "_view_count": null,
      "_view_module": "@jupyter-widgets/base",
      "_view_module_version": "1.2.0",
      "_view_name": "LayoutView",
      "align_content": null,
      "align_items": null,
      "align_self": null,
      "border": null,
      "bottom": null,
      "display": null,
      "flex": null,
      "flex_flow": null,
      "grid_area": null,
      "grid_auto_columns": null,
      "grid_auto_flow": null,
      "grid_auto_rows": null,
      "grid_column": null,
      "grid_gap": null,
      "grid_row": null,
      "grid_template_areas": null,
      "grid_template_columns": null,
      "grid_template_rows": null,
      "height": null,
      "justify_content": null,
      "justify_items": null,
      "left": null,
      "margin": null,
      "max_height": null,
      "max_width": null,
      "min_height": null,
      "min_width": null,
      "object_fit": null,
      "object_position": null,
      "order": null,
      "overflow": null,
      "overflow_x": null,
      "overflow_y": null,
      "padding": null,
      "right": null,
      "top": null,
      "visibility": null,
      "width": null
     }
    },
    "4fa52eecbe8a4ba38ef969fd1cf48cfd": {
     "model_module": "@jupyter-widgets/controls",
     "model_module_version": "1.5.0",
     "model_name": "DescriptionStyleModel",
     "state": {
      "_model_module": "@jupyter-widgets/controls",
      "_model_module_version": "1.5.0",
      "_model_name": "DescriptionStyleModel",
      "_view_count": null,
      "_view_module": "@jupyter-widgets/base",
      "_view_module_version": "1.2.0",
      "_view_name": "StyleView",
      "description_width": ""
     }
    },
    "50859aa086814457bcab249b35d486a8": {
     "model_module": "@jupyter-widgets/controls",
     "model_module_version": "1.5.0",
     "model_name": "ProgressStyleModel",
     "state": {
      "_model_module": "@jupyter-widgets/controls",
      "_model_module_version": "1.5.0",
      "_model_name": "ProgressStyleModel",
      "_view_count": null,
      "_view_module": "@jupyter-widgets/base",
      "_view_module_version": "1.2.0",
      "_view_name": "StyleView",
      "bar_color": null,
      "description_width": ""
     }
    },
    "570b9a872e614e0eab6618f306be7306": {
     "model_module": "@jupyter-widgets/controls",
     "model_module_version": "1.5.0",
     "model_name": "HBoxModel",
     "state": {
      "_dom_classes": [],
      "_model_module": "@jupyter-widgets/controls",
      "_model_module_version": "1.5.0",
      "_model_name": "HBoxModel",
      "_view_count": null,
      "_view_module": "@jupyter-widgets/controls",
      "_view_module_version": "1.5.0",
      "_view_name": "HBoxView",
      "box_style": "",
      "children": [
       "IPY_MODEL_34e574772e8b4f81bc7e02e8ebaeb258",
       "IPY_MODEL_1cf66f2a8c5f49ce98d59dae5186298d",
       "IPY_MODEL_71f100b04c964a1bbde06c537f483ed7"
      ],
      "layout": "IPY_MODEL_9e1caf8b23fb4eb1976f808269d1dd3e"
     }
    },
    "5a072e1f73624ea5aa35e7e18af17f50": {
     "model_module": "@jupyter-widgets/controls",
     "model_module_version": "1.5.0",
     "model_name": "FloatProgressModel",
     "state": {
      "_dom_classes": [],
      "_model_module": "@jupyter-widgets/controls",
      "_model_module_version": "1.5.0",
      "_model_name": "FloatProgressModel",
      "_view_count": null,
      "_view_module": "@jupyter-widgets/controls",
      "_view_module_version": "1.5.0",
      "_view_name": "ProgressView",
      "bar_style": "success",
      "description": "",
      "description_tooltip": null,
      "layout": "IPY_MODEL_8a0c04349bae44f4a7130463ded826d1",
      "max": 466062,
      "min": 0,
      "orientation": "horizontal",
      "style": "IPY_MODEL_9f11959bab964aad822250b6e6853cb8",
      "value": 466062
     }
    },
    "672e978f9b524c5784553abd8cc91507": {
     "model_module": "@jupyter-widgets/controls",
     "model_module_version": "1.5.0",
     "model_name": "HBoxModel",
     "state": {
      "_dom_classes": [],
      "_model_module": "@jupyter-widgets/controls",
      "_model_module_version": "1.5.0",
      "_model_name": "HBoxModel",
      "_view_count": null,
      "_view_module": "@jupyter-widgets/controls",
      "_view_module_version": "1.5.0",
      "_view_name": "HBoxView",
      "box_style": "",
      "children": [
       "IPY_MODEL_17ae300ebf634778862bc211cb432eef",
       "IPY_MODEL_5a072e1f73624ea5aa35e7e18af17f50",
       "IPY_MODEL_1ec35f8bfadb40968f777ab7bbb55184"
      ],
      "layout": "IPY_MODEL_274875a4aa6047c9903ae3065a5d85c2"
     }
    },
    "69d90bdca5174dfb91f5cf124884095e": {
     "model_module": "@jupyter-widgets/base",
     "model_module_version": "1.2.0",
     "model_name": "LayoutModel",
     "state": {
      "_model_module": "@jupyter-widgets/base",
      "_model_module_version": "1.2.0",
      "_model_name": "LayoutModel",
      "_view_count": null,
      "_view_module": "@jupyter-widgets/base",
      "_view_module_version": "1.2.0",
      "_view_name": "LayoutView",
      "align_content": null,
      "align_items": null,
      "align_self": null,
      "border": null,
      "bottom": null,
      "display": null,
      "flex": null,
      "flex_flow": null,
      "grid_area": null,
      "grid_auto_columns": null,
      "grid_auto_flow": null,
      "grid_auto_rows": null,
      "grid_column": null,
      "grid_gap": null,
      "grid_row": null,
      "grid_template_areas": null,
      "grid_template_columns": null,
      "grid_template_rows": null,
      "height": null,
      "justify_content": null,
      "justify_items": null,
      "left": null,
      "margin": null,
      "max_height": null,
      "max_width": null,
      "min_height": null,
      "min_width": null,
      "object_fit": null,
      "object_position": null,
      "order": null,
      "overflow": null,
      "overflow_x": null,
      "overflow_y": null,
      "padding": null,
      "right": null,
      "top": null,
      "visibility": null,
      "width": null
     }
    },
    "71d0c2b02f0c4a609477bc31aa880938": {
     "model_module": "@jupyter-widgets/controls",
     "model_module_version": "1.5.0",
     "model_name": "HBoxModel",
     "state": {
      "_dom_classes": [],
      "_model_module": "@jupyter-widgets/controls",
      "_model_module_version": "1.5.0",
      "_model_name": "HBoxModel",
      "_view_count": null,
      "_view_module": "@jupyter-widgets/controls",
      "_view_module_version": "1.5.0",
      "_view_name": "HBoxView",
      "box_style": "",
      "children": [
       "IPY_MODEL_c12c857f159443f1b2a661fcd7afa002",
       "IPY_MODEL_989933f9c84a47d4b64d5b5441a1f492",
       "IPY_MODEL_2024092105904b418c984aae9f4118bf"
      ],
      "layout": "IPY_MODEL_4cc5655f9bdb42bca5d80e2849e8cd2b"
     }
    },
    "71f100b04c964a1bbde06c537f483ed7": {
     "model_module": "@jupyter-widgets/controls",
     "model_module_version": "1.5.0",
     "model_name": "HTMLModel",
     "state": {
      "_dom_classes": [],
      "_model_module": "@jupyter-widgets/controls",
      "_model_module_version": "1.5.0",
      "_model_name": "HTMLModel",
      "_view_count": null,
      "_view_module": "@jupyter-widgets/controls",
      "_view_module_version": "1.5.0",
      "_view_name": "HTMLView",
      "description": "",
      "description_tooltip": null,
      "layout": "IPY_MODEL_34bbd1edf06c4a9194bd27eaeeee32b2",
      "placeholder": "​",
      "style": "IPY_MODEL_ea850e74cb6a4121a456578b29ce7955",
      "value": " 570/570 [00:00&lt;00:00, 5.04kB/s]"
     }
    },
    "8a0c04349bae44f4a7130463ded826d1": {
     "model_module": "@jupyter-widgets/base",
     "model_module_version": "1.2.0",
     "model_name": "LayoutModel",
     "state": {
      "_model_module": "@jupyter-widgets/base",
      "_model_module_version": "1.2.0",
      "_model_name": "LayoutModel",
      "_view_count": null,
      "_view_module": "@jupyter-widgets/base",
      "_view_module_version": "1.2.0",
      "_view_name": "LayoutView",
      "align_content": null,
      "align_items": null,
      "align_self": null,
      "border": null,
      "bottom": null,
      "display": null,
      "flex": null,
      "flex_flow": null,
      "grid_area": null,
      "grid_auto_columns": null,
      "grid_auto_flow": null,
      "grid_auto_rows": null,
      "grid_column": null,
      "grid_gap": null,
      "grid_row": null,
      "grid_template_areas": null,
      "grid_template_columns": null,
      "grid_template_rows": null,
      "height": null,
      "justify_content": null,
      "justify_items": null,
      "left": null,
      "margin": null,
      "max_height": null,
      "max_width": null,
      "min_height": null,
      "min_width": null,
      "object_fit": null,
      "object_position": null,
      "order": null,
      "overflow": null,
      "overflow_x": null,
      "overflow_y": null,
      "padding": null,
      "right": null,
      "top": null,
      "visibility": null,
      "width": null
     }
    },
    "909ae03e117345f7a4b53f3045e090b7": {
     "model_module": "@jupyter-widgets/controls",
     "model_module_version": "1.5.0",
     "model_name": "ProgressStyleModel",
     "state": {
      "_model_module": "@jupyter-widgets/controls",
      "_model_module_version": "1.5.0",
      "_model_name": "ProgressStyleModel",
      "_view_count": null,
      "_view_module": "@jupyter-widgets/base",
      "_view_module_version": "1.2.0",
      "_view_name": "StyleView",
      "bar_color": null,
      "description_width": ""
     }
    },
    "989933f9c84a47d4b64d5b5441a1f492": {
     "model_module": "@jupyter-widgets/controls",
     "model_module_version": "1.5.0",
     "model_name": "FloatProgressModel",
     "state": {
      "_dom_classes": [],
      "_model_module": "@jupyter-widgets/controls",
      "_model_module_version": "1.5.0",
      "_model_name": "FloatProgressModel",
      "_view_count": null,
      "_view_module": "@jupyter-widgets/controls",
      "_view_module_version": "1.5.0",
      "_view_name": "ProgressView",
      "bar_style": "success",
      "description": "",
      "description_tooltip": null,
      "layout": "IPY_MODEL_9910be9c8b7b4188936721e958ca15c5",
      "max": 28,
      "min": 0,
      "orientation": "horizontal",
      "style": "IPY_MODEL_50859aa086814457bcab249b35d486a8",
      "value": 28
     }
    },
    "9910be9c8b7b4188936721e958ca15c5": {
     "model_module": "@jupyter-widgets/base",
     "model_module_version": "1.2.0",
     "model_name": "LayoutModel",
     "state": {
      "_model_module": "@jupyter-widgets/base",
      "_model_module_version": "1.2.0",
      "_model_name": "LayoutModel",
      "_view_count": null,
      "_view_module": "@jupyter-widgets/base",
      "_view_module_version": "1.2.0",
      "_view_name": "LayoutView",
      "align_content": null,
      "align_items": null,
      "align_self": null,
      "border": null,
      "bottom": null,
      "display": null,
      "flex": null,
      "flex_flow": null,
      "grid_area": null,
      "grid_auto_columns": null,
      "grid_auto_flow": null,
      "grid_auto_rows": null,
      "grid_column": null,
      "grid_gap": null,
      "grid_row": null,
      "grid_template_areas": null,
      "grid_template_columns": null,
      "grid_template_rows": null,
      "height": null,
      "justify_content": null,
      "justify_items": null,
      "left": null,
      "margin": null,
      "max_height": null,
      "max_width": null,
      "min_height": null,
      "min_width": null,
      "object_fit": null,
      "object_position": null,
      "order": null,
      "overflow": null,
      "overflow_x": null,
      "overflow_y": null,
      "padding": null,
      "right": null,
      "top": null,
      "visibility": null,
      "width": null
     }
    },
    "9b0c918326174bc4b80585a52ac33e32": {
     "model_module": "@jupyter-widgets/base",
     "model_module_version": "1.2.0",
     "model_name": "LayoutModel",
     "state": {
      "_model_module": "@jupyter-widgets/base",
      "_model_module_version": "1.2.0",
      "_model_name": "LayoutModel",
      "_view_count": null,
      "_view_module": "@jupyter-widgets/base",
      "_view_module_version": "1.2.0",
      "_view_name": "LayoutView",
      "align_content": null,
      "align_items": null,
      "align_self": null,
      "border": null,
      "bottom": null,
      "display": null,
      "flex": null,
      "flex_flow": null,
      "grid_area": null,
      "grid_auto_columns": null,
      "grid_auto_flow": null,
      "grid_auto_rows": null,
      "grid_column": null,
      "grid_gap": null,
      "grid_row": null,
      "grid_template_areas": null,
      "grid_template_columns": null,
      "grid_template_rows": null,
      "height": null,
      "justify_content": null,
      "justify_items": null,
      "left": null,
      "margin": null,
      "max_height": null,
      "max_width": null,
      "min_height": null,
      "min_width": null,
      "object_fit": null,
      "object_position": null,
      "order": null,
      "overflow": null,
      "overflow_x": null,
      "overflow_y": null,
      "padding": null,
      "right": null,
      "top": null,
      "visibility": null,
      "width": null
     }
    },
    "9e1caf8b23fb4eb1976f808269d1dd3e": {
     "model_module": "@jupyter-widgets/base",
     "model_module_version": "1.2.0",
     "model_name": "LayoutModel",
     "state": {
      "_model_module": "@jupyter-widgets/base",
      "_model_module_version": "1.2.0",
      "_model_name": "LayoutModel",
      "_view_count": null,
      "_view_module": "@jupyter-widgets/base",
      "_view_module_version": "1.2.0",
      "_view_name": "LayoutView",
      "align_content": null,
      "align_items": null,
      "align_self": null,
      "border": null,
      "bottom": null,
      "display": null,
      "flex": null,
      "flex_flow": null,
      "grid_area": null,
      "grid_auto_columns": null,
      "grid_auto_flow": null,
      "grid_auto_rows": null,
      "grid_column": null,
      "grid_gap": null,
      "grid_row": null,
      "grid_template_areas": null,
      "grid_template_columns": null,
      "grid_template_rows": null,
      "height": null,
      "justify_content": null,
      "justify_items": null,
      "left": null,
      "margin": null,
      "max_height": null,
      "max_width": null,
      "min_height": null,
      "min_width": null,
      "object_fit": null,
      "object_position": null,
      "order": null,
      "overflow": null,
      "overflow_x": null,
      "overflow_y": null,
      "padding": null,
      "right": null,
      "top": null,
      "visibility": null,
      "width": null
     }
    },
    "9f11959bab964aad822250b6e6853cb8": {
     "model_module": "@jupyter-widgets/controls",
     "model_module_version": "1.5.0",
     "model_name": "ProgressStyleModel",
     "state": {
      "_model_module": "@jupyter-widgets/controls",
      "_model_module_version": "1.5.0",
      "_model_name": "ProgressStyleModel",
      "_view_count": null,
      "_view_module": "@jupyter-widgets/base",
      "_view_module_version": "1.2.0",
      "_view_name": "StyleView",
      "bar_color": null,
      "description_width": ""
     }
    },
    "a51f1ae4e3bd4563be3eb7c04dec7a60": {
     "model_module": "@jupyter-widgets/base",
     "model_module_version": "1.2.0",
     "model_name": "LayoutModel",
     "state": {
      "_model_module": "@jupyter-widgets/base",
      "_model_module_version": "1.2.0",
      "_model_name": "LayoutModel",
      "_view_count": null,
      "_view_module": "@jupyter-widgets/base",
      "_view_module_version": "1.2.0",
      "_view_name": "LayoutView",
      "align_content": null,
      "align_items": null,
      "align_self": null,
      "border": null,
      "bottom": null,
      "display": null,
      "flex": null,
      "flex_flow": null,
      "grid_area": null,
      "grid_auto_columns": null,
      "grid_auto_flow": null,
      "grid_auto_rows": null,
      "grid_column": null,
      "grid_gap": null,
      "grid_row": null,
      "grid_template_areas": null,
      "grid_template_columns": null,
      "grid_template_rows": null,
      "height": null,
      "justify_content": null,
      "justify_items": null,
      "left": null,
      "margin": null,
      "max_height": null,
      "max_width": null,
      "min_height": null,
      "min_width": null,
      "object_fit": null,
      "object_position": null,
      "order": null,
      "overflow": null,
      "overflow_x": null,
      "overflow_y": null,
      "padding": null,
      "right": null,
      "top": null,
      "visibility": null,
      "width": null
     }
    },
    "ac93c61a19c0474994803853194d2aa8": {
     "model_module": "@jupyter-widgets/controls",
     "model_module_version": "1.5.0",
     "model_name": "DescriptionStyleModel",
     "state": {
      "_model_module": "@jupyter-widgets/controls",
      "_model_module_version": "1.5.0",
      "_model_name": "DescriptionStyleModel",
      "_view_count": null,
      "_view_module": "@jupyter-widgets/base",
      "_view_module_version": "1.2.0",
      "_view_name": "StyleView",
      "description_width": ""
     }
    },
    "ae841edad05b4ef9b4308308d6683fa3": {
     "model_module": "@jupyter-widgets/controls",
     "model_module_version": "1.5.0",
     "model_name": "ProgressStyleModel",
     "state": {
      "_model_module": "@jupyter-widgets/controls",
      "_model_module_version": "1.5.0",
      "_model_name": "ProgressStyleModel",
      "_view_count": null,
      "_view_module": "@jupyter-widgets/base",
      "_view_module_version": "1.2.0",
      "_view_name": "StyleView",
      "bar_color": null,
      "description_width": ""
     }
    },
    "b5516712d5304670a05ec871eb5896a4": {
     "model_module": "@jupyter-widgets/controls",
     "model_module_version": "1.5.0",
     "model_name": "DescriptionStyleModel",
     "state": {
      "_model_module": "@jupyter-widgets/controls",
      "_model_module_version": "1.5.0",
      "_model_name": "DescriptionStyleModel",
      "_view_count": null,
      "_view_module": "@jupyter-widgets/base",
      "_view_module_version": "1.2.0",
      "_view_name": "StyleView",
      "description_width": ""
     }
    },
    "c12c857f159443f1b2a661fcd7afa002": {
     "model_module": "@jupyter-widgets/controls",
     "model_module_version": "1.5.0",
     "model_name": "HTMLModel",
     "state": {
      "_dom_classes": [],
      "_model_module": "@jupyter-widgets/controls",
      "_model_module_version": "1.5.0",
      "_model_name": "HTMLModel",
      "_view_count": null,
      "_view_module": "@jupyter-widgets/controls",
      "_view_module_version": "1.5.0",
      "_view_name": "HTMLView",
      "description": "",
      "description_tooltip": null,
      "layout": "IPY_MODEL_fd56d3ae17774e5496a7fdcbcb57b874",
      "placeholder": "​",
      "style": "IPY_MODEL_b5516712d5304670a05ec871eb5896a4",
      "value": "Downloading (…)okenizer_config.json: 100%"
     }
    },
    "c7586ac9b41c4e75b02a6c076a458686": {
     "model_module": "@jupyter-widgets/controls",
     "model_module_version": "1.5.0",
     "model_name": "DescriptionStyleModel",
     "state": {
      "_model_module": "@jupyter-widgets/controls",
      "_model_module_version": "1.5.0",
      "_model_name": "DescriptionStyleModel",
      "_view_count": null,
      "_view_module": "@jupyter-widgets/base",
      "_view_module_version": "1.2.0",
      "_view_name": "StyleView",
      "description_width": ""
     }
    },
    "cfe933364a3147368660f5463f1e5a29": {
     "model_module": "@jupyter-widgets/base",
     "model_module_version": "1.2.0",
     "model_name": "LayoutModel",
     "state": {
      "_model_module": "@jupyter-widgets/base",
      "_model_module_version": "1.2.0",
      "_model_name": "LayoutModel",
      "_view_count": null,
      "_view_module": "@jupyter-widgets/base",
      "_view_module_version": "1.2.0",
      "_view_name": "LayoutView",
      "align_content": null,
      "align_items": null,
      "align_self": null,
      "border": null,
      "bottom": null,
      "display": null,
      "flex": null,
      "flex_flow": null,
      "grid_area": null,
      "grid_auto_columns": null,
      "grid_auto_flow": null,
      "grid_auto_rows": null,
      "grid_column": null,
      "grid_gap": null,
      "grid_row": null,
      "grid_template_areas": null,
      "grid_template_columns": null,
      "grid_template_rows": null,
      "height": null,
      "justify_content": null,
      "justify_items": null,
      "left": null,
      "margin": null,
      "max_height": null,
      "max_width": null,
      "min_height": null,
      "min_width": null,
      "object_fit": null,
      "object_position": null,
      "order": null,
      "overflow": null,
      "overflow_x": null,
      "overflow_y": null,
      "padding": null,
      "right": null,
      "top": null,
      "visibility": null,
      "width": null
     }
    },
    "d69dfd21bce04204b3220b71b4d4a968": {
     "model_module": "@jupyter-widgets/controls",
     "model_module_version": "1.5.0",
     "model_name": "HBoxModel",
     "state": {
      "_dom_classes": [],
      "_model_module": "@jupyter-widgets/controls",
      "_model_module_version": "1.5.0",
      "_model_name": "HBoxModel",
      "_view_count": null,
      "_view_module": "@jupyter-widgets/controls",
      "_view_module_version": "1.5.0",
      "_view_name": "HBoxView",
      "box_style": "",
      "children": [
       "IPY_MODEL_4914d10c0f354e178de66dc11449e26a",
       "IPY_MODEL_f554ec9fe80a408680aa7b0a1c6837ac",
       "IPY_MODEL_f4ec333b7c654876a6caad010e88c203"
      ],
      "layout": "IPY_MODEL_cfe933364a3147368660f5463f1e5a29"
     }
    },
    "dfd44792f624499b87bd768836016e88": {
     "model_module": "@jupyter-widgets/base",
     "model_module_version": "1.2.0",
     "model_name": "LayoutModel",
     "state": {
      "_model_module": "@jupyter-widgets/base",
      "_model_module_version": "1.2.0",
      "_model_name": "LayoutModel",
      "_view_count": null,
      "_view_module": "@jupyter-widgets/base",
      "_view_module_version": "1.2.0",
      "_view_name": "LayoutView",
      "align_content": null,
      "align_items": null,
      "align_self": null,
      "border": null,
      "bottom": null,
      "display": null,
      "flex": null,
      "flex_flow": null,
      "grid_area": null,
      "grid_auto_columns": null,
      "grid_auto_flow": null,
      "grid_auto_rows": null,
      "grid_column": null,
      "grid_gap": null,
      "grid_row": null,
      "grid_template_areas": null,
      "grid_template_columns": null,
      "grid_template_rows": null,
      "height": null,
      "justify_content": null,
      "justify_items": null,
      "left": null,
      "margin": null,
      "max_height": null,
      "max_width": null,
      "min_height": null,
      "min_width": null,
      "object_fit": null,
      "object_position": null,
      "order": null,
      "overflow": null,
      "overflow_x": null,
      "overflow_y": null,
      "padding": null,
      "right": null,
      "top": null,
      "visibility": null,
      "width": null
     }
    },
    "e38ea829111b4065bad8ad4a4927bc39": {
     "model_module": "@jupyter-widgets/controls",
     "model_module_version": "1.5.0",
     "model_name": "DescriptionStyleModel",
     "state": {
      "_model_module": "@jupyter-widgets/controls",
      "_model_module_version": "1.5.0",
      "_model_name": "DescriptionStyleModel",
      "_view_count": null,
      "_view_module": "@jupyter-widgets/base",
      "_view_module_version": "1.2.0",
      "_view_name": "StyleView",
      "description_width": ""
     }
    },
    "e89d668a4fb541ec8d75d171bf899869": {
     "model_module": "@jupyter-widgets/controls",
     "model_module_version": "1.5.0",
     "model_name": "DescriptionStyleModel",
     "state": {
      "_model_module": "@jupyter-widgets/controls",
      "_model_module_version": "1.5.0",
      "_model_name": "DescriptionStyleModel",
      "_view_count": null,
      "_view_module": "@jupyter-widgets/base",
      "_view_module_version": "1.2.0",
      "_view_name": "StyleView",
      "description_width": ""
     }
    },
    "e99b3d05437f4cdf9e1700e3cf466b34": {
     "model_module": "@jupyter-widgets/base",
     "model_module_version": "1.2.0",
     "model_name": "LayoutModel",
     "state": {
      "_model_module": "@jupyter-widgets/base",
      "_model_module_version": "1.2.0",
      "_model_name": "LayoutModel",
      "_view_count": null,
      "_view_module": "@jupyter-widgets/base",
      "_view_module_version": "1.2.0",
      "_view_name": "LayoutView",
      "align_content": null,
      "align_items": null,
      "align_self": null,
      "border": null,
      "bottom": null,
      "display": null,
      "flex": null,
      "flex_flow": null,
      "grid_area": null,
      "grid_auto_columns": null,
      "grid_auto_flow": null,
      "grid_auto_rows": null,
      "grid_column": null,
      "grid_gap": null,
      "grid_row": null,
      "grid_template_areas": null,
      "grid_template_columns": null,
      "grid_template_rows": null,
      "height": null,
      "justify_content": null,
      "justify_items": null,
      "left": null,
      "margin": null,
      "max_height": null,
      "max_width": null,
      "min_height": null,
      "min_width": null,
      "object_fit": null,
      "object_position": null,
      "order": null,
      "overflow": null,
      "overflow_x": null,
      "overflow_y": null,
      "padding": null,
      "right": null,
      "top": null,
      "visibility": null,
      "width": null
     }
    },
    "ea850e74cb6a4121a456578b29ce7955": {
     "model_module": "@jupyter-widgets/controls",
     "model_module_version": "1.5.0",
     "model_name": "DescriptionStyleModel",
     "state": {
      "_model_module": "@jupyter-widgets/controls",
      "_model_module_version": "1.5.0",
      "_model_name": "DescriptionStyleModel",
      "_view_count": null,
      "_view_module": "@jupyter-widgets/base",
      "_view_module_version": "1.2.0",
      "_view_name": "StyleView",
      "description_width": ""
     }
    },
    "ee12049f5a9c4505b9769a4ff9c36477": {
     "model_module": "@jupyter-widgets/controls",
     "model_module_version": "1.5.0",
     "model_name": "HBoxModel",
     "state": {
      "_dom_classes": [],
      "_model_module": "@jupyter-widgets/controls",
      "_model_module_version": "1.5.0",
      "_model_name": "HBoxModel",
      "_view_count": null,
      "_view_module": "@jupyter-widgets/controls",
      "_view_module_version": "1.5.0",
      "_view_name": "HBoxView",
      "box_style": "",
      "children": [
       "IPY_MODEL_18e134c7af5d45baa952ccf06f96f3d8",
       "IPY_MODEL_21bf2e03eac8419fa693628ab2cef02d",
       "IPY_MODEL_0f14c359d92748268810099e6cdd1fc3"
      ],
      "layout": "IPY_MODEL_e99b3d05437f4cdf9e1700e3cf466b34"
     }
    },
    "f4ec333b7c654876a6caad010e88c203": {
     "model_module": "@jupyter-widgets/controls",
     "model_module_version": "1.5.0",
     "model_name": "HTMLModel",
     "state": {
      "_dom_classes": [],
      "_model_module": "@jupyter-widgets/controls",
      "_model_module_version": "1.5.0",
      "_model_name": "HTMLModel",
      "_view_count": null,
      "_view_module": "@jupyter-widgets/controls",
      "_view_module_version": "1.5.0",
      "_view_name": "HTMLView",
      "description": "",
      "description_tooltip": null,
      "layout": "IPY_MODEL_69d90bdca5174dfb91f5cf124884095e",
      "placeholder": "​",
      "style": "IPY_MODEL_123641d1426541fba838576dff7f6082",
      "value": " 440M/440M [00:06&lt;00:00, 121MB/s]"
     }
    },
    "f554ec9fe80a408680aa7b0a1c6837ac": {
     "model_module": "@jupyter-widgets/controls",
     "model_module_version": "1.5.0",
     "model_name": "FloatProgressModel",
     "state": {
      "_dom_classes": [],
      "_model_module": "@jupyter-widgets/controls",
      "_model_module_version": "1.5.0",
      "_model_name": "FloatProgressModel",
      "_view_count": null,
      "_view_module": "@jupyter-widgets/controls",
      "_view_module_version": "1.5.0",
      "_view_name": "ProgressView",
      "bar_style": "success",
      "description": "",
      "description_tooltip": null,
      "layout": "IPY_MODEL_3c294ab0d9a648f39ea3f3fb7dd08c3c",
      "max": 440449768,
      "min": 0,
      "orientation": "horizontal",
      "style": "IPY_MODEL_31914a14cfa243388f43a02da4db24b6",
      "value": 440449768
     }
    },
    "f7998e50af804d66b6af0f26b5588255": {
     "model_module": "@jupyter-widgets/base",
     "model_module_version": "1.2.0",
     "model_name": "LayoutModel",
     "state": {
      "_model_module": "@jupyter-widgets/base",
      "_model_module_version": "1.2.0",
      "_model_name": "LayoutModel",
      "_view_count": null,
      "_view_module": "@jupyter-widgets/base",
      "_view_module_version": "1.2.0",
      "_view_name": "LayoutView",
      "align_content": null,
      "align_items": null,
      "align_self": null,
      "border": null,
      "bottom": null,
      "display": null,
      "flex": null,
      "flex_flow": null,
      "grid_area": null,
      "grid_auto_columns": null,
      "grid_auto_flow": null,
      "grid_auto_rows": null,
      "grid_column": null,
      "grid_gap": null,
      "grid_row": null,
      "grid_template_areas": null,
      "grid_template_columns": null,
      "grid_template_rows": null,
      "height": null,
      "justify_content": null,
      "justify_items": null,
      "left": null,
      "margin": null,
      "max_height": null,
      "max_width": null,
      "min_height": null,
      "min_width": null,
      "object_fit": null,
      "object_position": null,
      "order": null,
      "overflow": null,
      "overflow_x": null,
      "overflow_y": null,
      "padding": null,
      "right": null,
      "top": null,
      "visibility": null,
      "width": null
     }
    },
    "f9a2caba063b4a4f98ad258044d012fb": {
     "model_module": "@jupyter-widgets/controls",
     "model_module_version": "1.5.0",
     "model_name": "DescriptionStyleModel",
     "state": {
      "_model_module": "@jupyter-widgets/controls",
      "_model_module_version": "1.5.0",
      "_model_name": "DescriptionStyleModel",
      "_view_count": null,
      "_view_module": "@jupyter-widgets/base",
      "_view_module_version": "1.2.0",
      "_view_name": "StyleView",
      "description_width": ""
     }
    },
    "fd56d3ae17774e5496a7fdcbcb57b874": {
     "model_module": "@jupyter-widgets/base",
     "model_module_version": "1.2.0",
     "model_name": "LayoutModel",
     "state": {
      "_model_module": "@jupyter-widgets/base",
      "_model_module_version": "1.2.0",
      "_model_name": "LayoutModel",
      "_view_count": null,
      "_view_module": "@jupyter-widgets/base",
      "_view_module_version": "1.2.0",
      "_view_name": "LayoutView",
      "align_content": null,
      "align_items": null,
      "align_self": null,
      "border": null,
      "bottom": null,
      "display": null,
      "flex": null,
      "flex_flow": null,
      "grid_area": null,
      "grid_auto_columns": null,
      "grid_auto_flow": null,
      "grid_auto_rows": null,
      "grid_column": null,
      "grid_gap": null,
      "grid_row": null,
      "grid_template_areas": null,
      "grid_template_columns": null,
      "grid_template_rows": null,
      "height": null,
      "justify_content": null,
      "justify_items": null,
      "left": null,
      "margin": null,
      "max_height": null,
      "max_width": null,
      "min_height": null,
      "min_width": null,
      "object_fit": null,
      "object_position": null,
      "order": null,
      "overflow": null,
      "overflow_x": null,
      "overflow_y": null,
      "padding": null,
      "right": null,
      "top": null,
      "visibility": null,
      "width": null
     }
    }
   }
  }
 },
 "nbformat": 4,
 "nbformat_minor": 4
}
